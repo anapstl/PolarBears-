{
 "cells": [
  {
   "cell_type": "markdown",
   "id": "724f45fd",
   "metadata": {},
   "source": [
    "# Clustering the Polar Bears\n"
   ]
  },
  {
   "cell_type": "code",
   "execution_count": 1,
   "id": "b8dc2e19",
   "metadata": {},
   "outputs": [],
   "source": [
    "# !pip install haversine\n",
    "# !pip install rioxarray"
   ]
  },
  {
   "cell_type": "code",
   "execution_count": 2,
   "id": "5db8f592",
   "metadata": {},
   "outputs": [],
   "source": [
    "import pandas as pd\n",
    "import matplotlib.pyplot as plt\n",
    "import numpy as np\n",
    "import random\n",
    "import seaborn as sns\n",
    "from haversine import haversine, Unit\n",
    "from ipyleaflet import Map, Marker, MarkerCluster, basemaps, basemap_to_tiles\n",
    "from ipywidgets import HTML\n",
    "from sklearn.cluster import KMeans\n",
    "from sklearn.metrics import silhouette_score\n",
    "from warnings import filterwarnings\n",
    "\n",
    "filterwarnings('ignore')"
   ]
  },
  {
   "cell_type": "markdown",
   "id": "56d0c756",
   "metadata": {},
   "source": [
    "## Load data"
   ]
  },
  {
   "cell_type": "code",
   "execution_count": 3,
   "id": "00b86a0d",
   "metadata": {},
   "outputs": [
    {
     "data": {
      "text/html": [
       "<div>\n",
       "<style scoped>\n",
       "    .dataframe tbody tr th:only-of-type {\n",
       "        vertical-align: middle;\n",
       "    }\n",
       "\n",
       "    .dataframe tbody tr th {\n",
       "        vertical-align: top;\n",
       "    }\n",
       "\n",
       "    .dataframe thead th {\n",
       "        text-align: right;\n",
       "    }\n",
       "</style>\n",
       "<table border=\"1\" class=\"dataframe\">\n",
       "  <thead>\n",
       "    <tr style=\"text-align: right;\">\n",
       "      <th></th>\n",
       "      <th>UniqueAnimalID</th>\n",
       "      <th>timestamp</th>\n",
       "      <th>mu_lat</th>\n",
       "      <th>mu_lon</th>\n",
       "      <th>se_mu_x</th>\n",
       "      <th>se_mu_y</th>\n",
       "    </tr>\n",
       "  </thead>\n",
       "  <tbody>\n",
       "    <tr>\n",
       "      <th>0</th>\n",
       "      <td>1</td>\n",
       "      <td>7/1/1986 0:00</td>\n",
       "      <td>69.7687</td>\n",
       "      <td>-141.3759</td>\n",
       "      <td>14589</td>\n",
       "      <td>14589</td>\n",
       "    </tr>\n",
       "    <tr>\n",
       "      <th>1</th>\n",
       "      <td>1</td>\n",
       "      <td>7/1/1986 6:00</td>\n",
       "      <td>69.7703</td>\n",
       "      <td>-141.3863</td>\n",
       "      <td>12248</td>\n",
       "      <td>12248</td>\n",
       "    </tr>\n",
       "    <tr>\n",
       "      <th>2</th>\n",
       "      <td>1</td>\n",
       "      <td>7/1/1986 12:00</td>\n",
       "      <td>69.7718</td>\n",
       "      <td>-141.3942</td>\n",
       "      <td>9375</td>\n",
       "      <td>9375</td>\n",
       "    </tr>\n",
       "    <tr>\n",
       "      <th>3</th>\n",
       "      <td>1</td>\n",
       "      <td>7/1/1986 18:00</td>\n",
       "      <td>69.7730</td>\n",
       "      <td>-141.3960</td>\n",
       "      <td>5835</td>\n",
       "      <td>5835</td>\n",
       "    </tr>\n",
       "    <tr>\n",
       "      <th>4</th>\n",
       "      <td>1</td>\n",
       "      <td>7/2/1986 0:00</td>\n",
       "      <td>69.7738</td>\n",
       "      <td>-141.3834</td>\n",
       "      <td>2517</td>\n",
       "      <td>2517</td>\n",
       "    </tr>\n",
       "  </tbody>\n",
       "</table>\n",
       "</div>"
      ],
      "text/plain": [
       "   UniqueAnimalID       timestamp   mu_lat    mu_lon  se_mu_x  se_mu_y\n",
       "0               1   7/1/1986 0:00  69.7687 -141.3759    14589    14589\n",
       "1               1   7/1/1986 6:00  69.7703 -141.3863    12248    12248\n",
       "2               1  7/1/1986 12:00  69.7718 -141.3942     9375     9375\n",
       "3               1  7/1/1986 18:00  69.7730 -141.3960     5835     5835\n",
       "4               1   7/2/1986 0:00  69.7738 -141.3834     2517     2517"
      ]
     },
     "execution_count": 3,
     "metadata": {},
     "output_type": "execute_result"
    }
   ],
   "source": [
    "# Load the data into a pandas dataframe\n",
    "df_raw = pd.read_csv(\"../data/raw/polarBear_CTCRWlocations_chukchiBeaufort_1985-2017.csv\")\n",
    "df_raw.head()"
   ]
  },
  {
   "cell_type": "code",
   "execution_count": 4,
   "id": "40a74e1b",
   "metadata": {},
   "outputs": [
    {
     "data": {
      "text/html": [
       "<div>\n",
       "<style scoped>\n",
       "    .dataframe tbody tr th:only-of-type {\n",
       "        vertical-align: middle;\n",
       "    }\n",
       "\n",
       "    .dataframe tbody tr th {\n",
       "        vertical-align: top;\n",
       "    }\n",
       "\n",
       "    .dataframe thead th {\n",
       "        text-align: right;\n",
       "    }\n",
       "</style>\n",
       "<table border=\"1\" class=\"dataframe\">\n",
       "  <thead>\n",
       "    <tr style=\"text-align: right;\">\n",
       "      <th></th>\n",
       "      <th>UniqueAnimalID</th>\n",
       "      <th>timestamp</th>\n",
       "      <th>mu_lat</th>\n",
       "      <th>mu_lon</th>\n",
       "      <th>se_mu_x</th>\n",
       "      <th>se_mu_y</th>\n",
       "    </tr>\n",
       "  </thead>\n",
       "  <tbody>\n",
       "    <tr>\n",
       "      <th>196864</th>\n",
       "      <td>311</td>\n",
       "      <td>7/1/2013 0:00</td>\n",
       "      <td>70.5648</td>\n",
       "      <td>-135.9348</td>\n",
       "      <td>31</td>\n",
       "      <td>31</td>\n",
       "    </tr>\n",
       "    <tr>\n",
       "      <th>196865</th>\n",
       "      <td>311</td>\n",
       "      <td>7/1/2013 6:00</td>\n",
       "      <td>70.5822</td>\n",
       "      <td>-136.0121</td>\n",
       "      <td>30</td>\n",
       "      <td>30</td>\n",
       "    </tr>\n",
       "    <tr>\n",
       "      <th>196866</th>\n",
       "      <td>311</td>\n",
       "      <td>7/1/2013 12:00</td>\n",
       "      <td>70.4862</td>\n",
       "      <td>-136.0627</td>\n",
       "      <td>30</td>\n",
       "      <td>30</td>\n",
       "    </tr>\n",
       "    <tr>\n",
       "      <th>196867</th>\n",
       "      <td>311</td>\n",
       "      <td>7/1/2013 18:00</td>\n",
       "      <td>70.4714</td>\n",
       "      <td>-136.2293</td>\n",
       "      <td>30</td>\n",
       "      <td>30</td>\n",
       "    </tr>\n",
       "    <tr>\n",
       "      <th>196868</th>\n",
       "      <td>311</td>\n",
       "      <td>7/2/2013 0:00</td>\n",
       "      <td>70.4720</td>\n",
       "      <td>-136.4244</td>\n",
       "      <td>30</td>\n",
       "      <td>30</td>\n",
       "    </tr>\n",
       "    <tr>\n",
       "      <th>...</th>\n",
       "      <td>...</td>\n",
       "      <td>...</td>\n",
       "      <td>...</td>\n",
       "      <td>...</td>\n",
       "      <td>...</td>\n",
       "      <td>...</td>\n",
       "    </tr>\n",
       "    <tr>\n",
       "      <th>197471</th>\n",
       "      <td>311</td>\n",
       "      <td>11/29/2013 18:00</td>\n",
       "      <td>70.9056</td>\n",
       "      <td>-152.4745</td>\n",
       "      <td>30</td>\n",
       "      <td>30</td>\n",
       "    </tr>\n",
       "    <tr>\n",
       "      <th>197472</th>\n",
       "      <td>311</td>\n",
       "      <td>11/30/2013 0:00</td>\n",
       "      <td>70.9069</td>\n",
       "      <td>-152.4838</td>\n",
       "      <td>30</td>\n",
       "      <td>30</td>\n",
       "    </tr>\n",
       "    <tr>\n",
       "      <th>197473</th>\n",
       "      <td>311</td>\n",
       "      <td>11/30/2013 6:00</td>\n",
       "      <td>70.9030</td>\n",
       "      <td>-152.4552</td>\n",
       "      <td>30</td>\n",
       "      <td>30</td>\n",
       "    </tr>\n",
       "    <tr>\n",
       "      <th>197474</th>\n",
       "      <td>311</td>\n",
       "      <td>11/30/2013 12:00</td>\n",
       "      <td>70.8915</td>\n",
       "      <td>-152.3489</td>\n",
       "      <td>30</td>\n",
       "      <td>30</td>\n",
       "    </tr>\n",
       "    <tr>\n",
       "      <th>197475</th>\n",
       "      <td>311</td>\n",
       "      <td>11/30/2013 18:00</td>\n",
       "      <td>70.8915</td>\n",
       "      <td>-152.3487</td>\n",
       "      <td>30</td>\n",
       "      <td>30</td>\n",
       "    </tr>\n",
       "  </tbody>\n",
       "</table>\n",
       "<p>612 rows × 6 columns</p>\n",
       "</div>"
      ],
      "text/plain": [
       "        UniqueAnimalID         timestamp   mu_lat    mu_lon  se_mu_x  se_mu_y\n",
       "196864             311     7/1/2013 0:00  70.5648 -135.9348       31       31\n",
       "196865             311     7/1/2013 6:00  70.5822 -136.0121       30       30\n",
       "196866             311    7/1/2013 12:00  70.4862 -136.0627       30       30\n",
       "196867             311    7/1/2013 18:00  70.4714 -136.2293       30       30\n",
       "196868             311     7/2/2013 0:00  70.4720 -136.4244       30       30\n",
       "...                ...               ...      ...       ...      ...      ...\n",
       "197471             311  11/29/2013 18:00  70.9056 -152.4745       30       30\n",
       "197472             311   11/30/2013 0:00  70.9069 -152.4838       30       30\n",
       "197473             311   11/30/2013 6:00  70.9030 -152.4552       30       30\n",
       "197474             311  11/30/2013 12:00  70.8915 -152.3489       30       30\n",
       "197475             311  11/30/2013 18:00  70.8915 -152.3487       30       30\n",
       "\n",
       "[612 rows x 6 columns]"
      ]
     },
     "execution_count": 4,
     "metadata": {},
     "output_type": "execute_result"
    }
   ],
   "source": [
    "df_raw[df_raw.UniqueAnimalID == 311]"
   ]
  },
  {
   "cell_type": "code",
   "execution_count": 5,
   "id": "be88d8de",
   "metadata": {},
   "outputs": [
    {
     "data": {
      "text/plain": [
       "(338413, 6)"
      ]
     },
     "execution_count": 5,
     "metadata": {},
     "output_type": "execute_result"
    }
   ],
   "source": [
    "df_raw.shape"
   ]
  },
  {
   "cell_type": "code",
   "execution_count": 6,
   "id": "bd94ce38",
   "metadata": {},
   "outputs": [
    {
     "name": "stdout",
     "output_type": "stream",
     "text": [
      "<class 'pandas.core.frame.DataFrame'>\n",
      "RangeIndex: 338413 entries, 0 to 338412\n",
      "Data columns (total 6 columns):\n",
      " #   Column          Non-Null Count   Dtype  \n",
      "---  ------          --------------   -----  \n",
      " 0   UniqueAnimalID  338413 non-null  int64  \n",
      " 1   timestamp       338413 non-null  object \n",
      " 2   mu_lat          338413 non-null  float64\n",
      " 3   mu_lon          338413 non-null  float64\n",
      " 4   se_mu_x         338413 non-null  int64  \n",
      " 5   se_mu_y         338413 non-null  int64  \n",
      "dtypes: float64(2), int64(3), object(1)\n",
      "memory usage: 15.5+ MB\n"
     ]
    }
   ],
   "source": [
    "df_raw.info()"
   ]
  },
  {
   "cell_type": "code",
   "execution_count": 7,
   "id": "d12e5409",
   "metadata": {},
   "outputs": [
    {
     "data": {
      "text/html": [
       "<div>\n",
       "<style scoped>\n",
       "    .dataframe tbody tr th:only-of-type {\n",
       "        vertical-align: middle;\n",
       "    }\n",
       "\n",
       "    .dataframe tbody tr th {\n",
       "        vertical-align: top;\n",
       "    }\n",
       "\n",
       "    .dataframe thead th {\n",
       "        text-align: right;\n",
       "    }\n",
       "</style>\n",
       "<table border=\"1\" class=\"dataframe\">\n",
       "  <thead>\n",
       "    <tr style=\"text-align: right;\">\n",
       "      <th></th>\n",
       "      <th>UniqueAnimalID</th>\n",
       "      <th>mu_lat</th>\n",
       "      <th>mu_lon</th>\n",
       "      <th>se_mu_x</th>\n",
       "      <th>se_mu_y</th>\n",
       "    </tr>\n",
       "  </thead>\n",
       "  <tbody>\n",
       "    <tr>\n",
       "      <th>count</th>\n",
       "      <td>338413.000000</td>\n",
       "      <td>338413.000000</td>\n",
       "      <td>338413.000000</td>\n",
       "      <td>338413.000000</td>\n",
       "      <td>338413.000000</td>\n",
       "    </tr>\n",
       "    <tr>\n",
       "      <th>mean</th>\n",
       "      <td>261.228664</td>\n",
       "      <td>72.380540</td>\n",
       "      <td>-114.949210</td>\n",
       "      <td>10146.473454</td>\n",
       "      <td>10146.473454</td>\n",
       "    </tr>\n",
       "    <tr>\n",
       "      <th>std</th>\n",
       "      <td>151.938359</td>\n",
       "      <td>2.190199</td>\n",
       "      <td>107.879343</td>\n",
       "      <td>8804.758996</td>\n",
       "      <td>8804.758996</td>\n",
       "    </tr>\n",
       "    <tr>\n",
       "      <th>min</th>\n",
       "      <td>1.000000</td>\n",
       "      <td>63.383000</td>\n",
       "      <td>-179.999900</td>\n",
       "      <td>11.000000</td>\n",
       "      <td>11.000000</td>\n",
       "    </tr>\n",
       "    <tr>\n",
       "      <th>25%</th>\n",
       "      <td>124.000000</td>\n",
       "      <td>70.892100</td>\n",
       "      <td>-163.503400</td>\n",
       "      <td>2697.000000</td>\n",
       "      <td>2697.000000</td>\n",
       "    </tr>\n",
       "    <tr>\n",
       "      <th>50%</th>\n",
       "      <td>280.000000</td>\n",
       "      <td>71.913600</td>\n",
       "      <td>-149.778200</td>\n",
       "      <td>8513.000000</td>\n",
       "      <td>8513.000000</td>\n",
       "    </tr>\n",
       "    <tr>\n",
       "      <th>75%</th>\n",
       "      <td>375.000000</td>\n",
       "      <td>73.505800</td>\n",
       "      <td>-140.424300</td>\n",
       "      <td>15010.000000</td>\n",
       "      <td>15010.000000</td>\n",
       "    </tr>\n",
       "    <tr>\n",
       "      <th>max</th>\n",
       "      <td>541.000000</td>\n",
       "      <td>83.901400</td>\n",
       "      <td>179.999800</td>\n",
       "      <td>66766.000000</td>\n",
       "      <td>66766.000000</td>\n",
       "    </tr>\n",
       "  </tbody>\n",
       "</table>\n",
       "</div>"
      ],
      "text/plain": [
       "       UniqueAnimalID         mu_lat         mu_lon        se_mu_x  \\\n",
       "count   338413.000000  338413.000000  338413.000000  338413.000000   \n",
       "mean       261.228664      72.380540    -114.949210   10146.473454   \n",
       "std        151.938359       2.190199     107.879343    8804.758996   \n",
       "min          1.000000      63.383000    -179.999900      11.000000   \n",
       "25%        124.000000      70.892100    -163.503400    2697.000000   \n",
       "50%        280.000000      71.913600    -149.778200    8513.000000   \n",
       "75%        375.000000      73.505800    -140.424300   15010.000000   \n",
       "max        541.000000      83.901400     179.999800   66766.000000   \n",
       "\n",
       "             se_mu_y  \n",
       "count  338413.000000  \n",
       "mean    10146.473454  \n",
       "std      8804.758996  \n",
       "min        11.000000  \n",
       "25%      2697.000000  \n",
       "50%      8513.000000  \n",
       "75%     15010.000000  \n",
       "max     66766.000000  "
      ]
     },
     "execution_count": 7,
     "metadata": {},
     "output_type": "execute_result"
    }
   ],
   "source": [
    "df_raw.describe()"
   ]
  },
  {
   "cell_type": "code",
   "execution_count": 8,
   "id": "d22af2bc",
   "metadata": {},
   "outputs": [
    {
     "data": {
      "text/plain": [
       "UniqueAnimalID       406\n",
       "timestamp          18972\n",
       "mu_lat             86166\n",
       "mu_lon            249455\n",
       "se_mu_x            35792\n",
       "se_mu_y            35792\n",
       "dtype: int64"
      ]
     },
     "execution_count": 8,
     "metadata": {},
     "output_type": "execute_result"
    }
   ],
   "source": [
    "df_raw.nunique()"
   ]
  },
  {
   "cell_type": "markdown",
   "id": "0140e16e",
   "metadata": {},
   "source": [
    "## Filtering out extreme values or missing data"
   ]
  },
  {
   "cell_type": "code",
   "execution_count": 9,
   "id": "537495eb",
   "metadata": {},
   "outputs": [
    {
     "data": {
      "image/png": "[encoded data removed]",
      "text/plain": [
       "<Figure size 640x480 with 1 Axes>"
      ]
     },
     "metadata": {},
     "output_type": "display_data"
    }
   ],
   "source": [
    "n_total = len(df_raw)\n",
    "\n",
    "# Limpieza\n",
    "df_clean = df_raw.dropna(subset=[\"mu_lat\", \"mu_lon\", \"timestamp\"])\n",
    "df_clean = df_clean[\n",
    "    (df_clean[\"mu_lat\"] > -90) & (df_clean[\"mu_lat\"] < 90) &\n",
    "    (df_clean[\"mu_lon\"] > -180) & (df_clean[\"mu_lon\"] < 180)\n",
    "]\n",
    "df_clean[\"timestamp\"] = pd.to_datetime(df_clean[\"timestamp\"], errors=\"coerce\")\n",
    "df_clean = df_clean.dropna(subset=[\"timestamp\"])\n",
    "\n",
    "n_clean = len(df_clean)\n",
    "\n",
    "# Gráfico\n",
    "plt.bar([\"Original\", \"Limpio\"], [n_total, n_clean], color=[\"orange\", \"green\"])\n",
    "plt.ylabel(\"Número de registros\")\n",
    "plt.title(\"Efecto del filtrado en los datos de movimiento de osos polares\")\n",
    "plt.text(0, n_total + 10, f\"{n_total}\", ha=\"center\")\n",
    "plt.text(1, n_clean + 10, f\"{n_clean}\", ha=\"center\")\n",
    "plt.ylim(0, n_total * 1.1)\n",
    "plt.show()\n"
   ]
  },
  {
   "cell_type": "code",
   "execution_count": 10,
   "id": "4007db33",
   "metadata": {},
   "outputs": [
    {
     "data": {
      "text/plain": [
       "UniqueAnimalID    0\n",
       "timestamp         0\n",
       "mu_lat            0\n",
       "mu_lon            0\n",
       "se_mu_x           0\n",
       "se_mu_y           0\n",
       "dtype: int64"
      ]
     },
     "execution_count": 10,
     "metadata": {},
     "output_type": "execute_result"
    }
   ],
   "source": [
    "df_raw.isnull().sum()"
   ]
  },
  {
   "cell_type": "code",
   "execution_count": 11,
   "id": "2f03b705",
   "metadata": {},
   "outputs": [
    {
     "data": {
      "image/png": "[encoded data removed]",
      "text/plain": [
       "<Figure size 800x500 with 1 Axes>"
      ]
     },
     "metadata": {},
     "output_type": "display_data"
    }
   ],
   "source": [
    "# Copia del DataFrame original\n",
    "df_raw = df_raw.copy()\n",
    "\n",
    "# Conteo inicial\n",
    "n_total = len(df_raw)\n",
    "descartes = {}\n",
    "\n",
    "# 1. NaNs en coordenadas o timestamp\n",
    "mask_nan = df_raw[\"mu_lat\"].isna() | df_raw[\"mu_lon\"].isna() | df_raw[\"timestamp\"].isna()\n",
    "descartes[\"NaN\"] = mask_nan.sum()\n",
    "df_raw = df_raw[~mask_nan]\n",
    "\n",
    "# 2. Coordenadas fuera de rango\n",
    "mask_coords = (\n",
    "    (df_raw[\"mu_lat\"] < -90) | (df_raw[\"mu_lat\"] > 90) |\n",
    "    (df_raw[\"mu_lon\"] < -180) | (df_raw[\"mu_lon\"] > 180)\n",
    ")\n",
    "descartes[\"Coordenadas inválidas\"] = mask_coords.sum()\n",
    "df_raw = df_raw[~mask_coords]\n",
    "\n",
    "# 3. Timestamps no convertibles\n",
    "df_raw[\"timestamp\"] = pd.to_datetime(df_raw[\"timestamp\"], errors=\"coerce\")\n",
    "mask_bad_time = df_raw[\"timestamp\"].isna()\n",
    "descartes[\"Timestamps inválidos\"] = mask_bad_time.sum()\n",
    "df_raw = df_raw[~mask_bad_time]\n",
    "\n",
    "# Datos limpios restantes\n",
    "descartes[\"Válidos\"] = len(df_raw)\n",
    "\n",
    "# Gráfico\n",
    "labels = list(descartes.keys())\n",
    "valores = list(descartes.values())\n",
    "\n",
    "colors = [\"tomato\", \"orange\", \"orchid\", \"mediumseagreen\"]\n",
    "\n",
    "plt.figure(figsize=(8, 5))\n",
    "plt.bar(labels, valores, color=colors)\n",
    "plt.title(\"Filtrado del dataset de osos polares (CTCRW)\")\n",
    "plt.ylabel(\"Número de registros\")\n",
    "for i, val in enumerate(valores):\n",
    "    plt.text(i, val + 5, str(val), ha='center')\n",
    "plt.tight_layout()\n",
    "plt.show()\n"
   ]
  },
  {
   "cell_type": "markdown",
   "id": "6d8b7961",
   "metadata": {},
   "source": [
    "## Calculate the average latitude and longitude for each _UniqueAnimalID_"
   ]
  },
  {
   "cell_type": "code",
   "execution_count": 12,
   "id": "c411d6ca",
   "metadata": {},
   "outputs": [],
   "source": [
    "avg_lat_lon = df_raw.groupby(\"UniqueAnimalID\")[[\"mu_lat\", \"mu_lon\"]].mean()"
   ]
  },
  {
   "cell_type": "markdown",
   "id": "8a3f3397",
   "metadata": {},
   "source": [
    "## Calculate the _total_distance_ traveled by each bear"
   ]
  },
  {
   "cell_type": "code",
   "execution_count": 59,
   "id": "85967b60",
   "metadata": {},
   "outputs": [],
   "source": [
    "df_raw = df_raw.sort_values([\"UniqueAnimalID\", \"timestamp\"])\n",
    "\n",
    "total_distance = df_raw.groupby(\"UniqueAnimalID\").apply(lambda group: \n",
    "    np.sum([haversine((group.iloc[i][\"mu_lat\"], group.iloc[i][\"mu_lon\"]), \n",
    "                      (group.iloc[i+1][\"mu_lat\"], group.iloc[i+1][\"mu_lon\"]), \n",
    "                      unit=Unit.KILOMETERS) \n",
    "            for i in range(len(group)-1)])\n",
    ")"
   ]
  },
  {
   "cell_type": "code",
   "execution_count": null,
   "id": "c0ebe60c",
   "metadata": {},
   "outputs": [],
   "source": [
    "df"
   ]
  },
  {
   "cell_type": "markdown",
   "id": "8a7b2e87",
   "metadata": {},
   "source": [
    "## Create a new dataframe with one row for each bear"
   ]
  },
  {
   "cell_type": "code",
   "execution_count": 60,
   "id": "3ca7e5e8",
   "metadata": {},
   "outputs": [],
   "source": [
    "new_df = pd.DataFrame({\n",
    "    \"UniqueAnimalID\": avg_lat_lon.index,\n",
    "    \"AvgLatitude\": avg_lat_lon[\"mu_lat\"].values,\n",
    "    \"AvgLongitude\": avg_lat_lon[\"mu_lon\"].values,\n",
    "    \"TotalDistance\": total_distance.values\n",
    "})"
   ]
  },
  {
   "cell_type": "code",
   "execution_count": 88,
   "id": "9d67532d",
   "metadata": {},
   "outputs": [
    {
     "data": {
      "text/html": [
       "<div>\n",
       "<style scoped>\n",
       "    .dataframe tbody tr th:only-of-type {\n",
       "        vertical-align: middle;\n",
       "    }\n",
       "\n",
       "    .dataframe tbody tr th {\n",
       "        vertical-align: top;\n",
       "    }\n",
       "\n",
       "    .dataframe thead th {\n",
       "        text-align: right;\n",
       "    }\n",
       "</style>\n",
       "<table border=\"1\" class=\"dataframe\">\n",
       "  <thead>\n",
       "    <tr style=\"text-align: right;\">\n",
       "      <th></th>\n",
       "      <th>UniqueAnimalID</th>\n",
       "      <th>AvgLatitude</th>\n",
       "      <th>AvgLongitude</th>\n",
       "      <th>TotalDistance</th>\n",
       "      <th>Cluster</th>\n",
       "    </tr>\n",
       "  </thead>\n",
       "  <tbody>\n",
       "    <tr>\n",
       "      <th>41</th>\n",
       "      <td>56</td>\n",
       "      <td>71.995771</td>\n",
       "      <td>-143.345428</td>\n",
       "      <td>26299.811749</td>\n",
       "      <td>2</td>\n",
       "    </tr>\n",
       "    <tr>\n",
       "      <th>213</th>\n",
       "      <td>297</td>\n",
       "      <td>73.839176</td>\n",
       "      <td>-145.627709</td>\n",
       "      <td>17213.843053</td>\n",
       "      <td>1</td>\n",
       "    </tr>\n",
       "    <tr>\n",
       "      <th>274</th>\n",
       "      <td>370</td>\n",
       "      <td>76.458548</td>\n",
       "      <td>-84.841568</td>\n",
       "      <td>15133.210206</td>\n",
       "      <td>1</td>\n",
       "    </tr>\n",
       "    <tr>\n",
       "      <th>28</th>\n",
       "      <td>41</td>\n",
       "      <td>72.811108</td>\n",
       "      <td>-147.173304</td>\n",
       "      <td>12996.802611</td>\n",
       "      <td>1</td>\n",
       "    </tr>\n",
       "    <tr>\n",
       "      <th>3</th>\n",
       "      <td>5</td>\n",
       "      <td>70.229404</td>\n",
       "      <td>-143.898422</td>\n",
       "      <td>12597.408190</td>\n",
       "      <td>1</td>\n",
       "    </tr>\n",
       "    <tr>\n",
       "      <th>...</th>\n",
       "      <td>...</td>\n",
       "      <td>...</td>\n",
       "      <td>...</td>\n",
       "      <td>...</td>\n",
       "      <td>...</td>\n",
       "    </tr>\n",
       "    <tr>\n",
       "      <th>397</th>\n",
       "      <td>532</td>\n",
       "      <td>70.609975</td>\n",
       "      <td>-150.816458</td>\n",
       "      <td>320.224616</td>\n",
       "      <td>3</td>\n",
       "    </tr>\n",
       "    <tr>\n",
       "      <th>399</th>\n",
       "      <td>534</td>\n",
       "      <td>70.139587</td>\n",
       "      <td>-143.713747</td>\n",
       "      <td>311.133704</td>\n",
       "      <td>3</td>\n",
       "    </tr>\n",
       "    <tr>\n",
       "      <th>277</th>\n",
       "      <td>374</td>\n",
       "      <td>70.129960</td>\n",
       "      <td>-143.953746</td>\n",
       "      <td>305.181615</td>\n",
       "      <td>3</td>\n",
       "    </tr>\n",
       "    <tr>\n",
       "      <th>385</th>\n",
       "      <td>519</td>\n",
       "      <td>71.068706</td>\n",
       "      <td>-96.690570</td>\n",
       "      <td>276.705906</td>\n",
       "      <td>3</td>\n",
       "    </tr>\n",
       "    <tr>\n",
       "      <th>388</th>\n",
       "      <td>522</td>\n",
       "      <td>71.239178</td>\n",
       "      <td>165.719896</td>\n",
       "      <td>223.074250</td>\n",
       "      <td>3</td>\n",
       "    </tr>\n",
       "  </tbody>\n",
       "</table>\n",
       "<p>406 rows × 5 columns</p>\n",
       "</div>"
      ],
      "text/plain": [
       "     UniqueAnimalID  AvgLatitude  AvgLongitude  TotalDistance  Cluster\n",
       "41               56    71.995771   -143.345428   26299.811749        2\n",
       "213             297    73.839176   -145.627709   17213.843053        1\n",
       "274             370    76.458548    -84.841568   15133.210206        1\n",
       "28               41    72.811108   -147.173304   12996.802611        1\n",
       "3                 5    70.229404   -143.898422   12597.408190        1\n",
       "..              ...          ...           ...            ...      ...\n",
       "397             532    70.609975   -150.816458     320.224616        3\n",
       "399             534    70.139587   -143.713747     311.133704        3\n",
       "277             374    70.129960   -143.953746     305.181615        3\n",
       "385             519    71.068706    -96.690570     276.705906        3\n",
       "388             522    71.239178    165.719896     223.074250        3\n",
       "\n",
       "[406 rows x 5 columns]"
      ]
     },
     "execution_count": 88,
     "metadata": {},
     "output_type": "execute_result"
    }
   ],
   "source": [
    "new_df.sort_values(by='TotalDistance', ascending=False)"
   ]
  },
  {
   "cell_type": "markdown",
   "id": "2997a2b9",
   "metadata": {},
   "source": [
    "duracion del seguimiento"
   ]
  },
  {
   "cell_type": "code",
   "execution_count": 62,
   "id": "6fdd8d3b",
   "metadata": {},
   "outputs": [],
   "source": [
    "df_raw[\"timestamp\"] = pd.to_datetime(df_raw[\"timestamp\"])\n",
    "tracking_days = df_raw.groupby(\"UniqueAnimalID\")[\"timestamp\"].agg([\"min\", \"max\"])\n",
    "tracking_days[\"dias\"] = (tracking_days[\"max\"] - tracking_days[\"min\"]).dt.days + 1\n"
   ]
  },
  {
   "cell_type": "code",
   "execution_count": 63,
   "id": "af9f1326",
   "metadata": {},
   "outputs": [
    {
     "data": {
      "text/html": [
       "<div>\n",
       "<style scoped>\n",
       "    .dataframe tbody tr th:only-of-type {\n",
       "        vertical-align: middle;\n",
       "    }\n",
       "\n",
       "    .dataframe tbody tr th {\n",
       "        vertical-align: top;\n",
       "    }\n",
       "\n",
       "    .dataframe thead th {\n",
       "        text-align: right;\n",
       "    }\n",
       "</style>\n",
       "<table border=\"1\" class=\"dataframe\">\n",
       "  <thead>\n",
       "    <tr style=\"text-align: right;\">\n",
       "      <th></th>\n",
       "      <th>min</th>\n",
       "      <th>max</th>\n",
       "      <th>dias</th>\n",
       "    </tr>\n",
       "    <tr>\n",
       "      <th>UniqueAnimalID</th>\n",
       "      <th></th>\n",
       "      <th></th>\n",
       "      <th></th>\n",
       "    </tr>\n",
       "  </thead>\n",
       "  <tbody>\n",
       "    <tr>\n",
       "      <th>56</th>\n",
       "      <td>1987-07-01</td>\n",
       "      <td>2004-11-03 00:00:00</td>\n",
       "      <td>6336</td>\n",
       "    </tr>\n",
       "    <tr>\n",
       "      <th>276</th>\n",
       "      <td>1992-07-01</td>\n",
       "      <td>2008-11-30 18:00:00</td>\n",
       "      <td>5997</td>\n",
       "    </tr>\n",
       "    <tr>\n",
       "      <th>280</th>\n",
       "      <td>1999-07-01</td>\n",
       "      <td>2009-11-30 18:00:00</td>\n",
       "      <td>3806</td>\n",
       "    </tr>\n",
       "    <tr>\n",
       "      <th>351</th>\n",
       "      <td>2005-07-01</td>\n",
       "      <td>2015-11-30 18:00:00</td>\n",
       "      <td>3805</td>\n",
       "    </tr>\n",
       "    <tr>\n",
       "      <th>5</th>\n",
       "      <td>1992-07-01</td>\n",
       "      <td>2002-11-30 18:00:00</td>\n",
       "      <td>3805</td>\n",
       "    </tr>\n",
       "  </tbody>\n",
       "</table>\n",
       "</div>"
      ],
      "text/plain": [
       "                      min                 max  dias\n",
       "UniqueAnimalID                                     \n",
       "56             1987-07-01 2004-11-03 00:00:00  6336\n",
       "276            1992-07-01 2008-11-30 18:00:00  5997\n",
       "280            1999-07-01 2009-11-30 18:00:00  3806\n",
       "351            2005-07-01 2015-11-30 18:00:00  3805\n",
       "5              1992-07-01 2002-11-30 18:00:00  3805"
      ]
     },
     "execution_count": 63,
     "metadata": {},
     "output_type": "execute_result"
    }
   ],
   "source": [
    "tracking_days.sort_values(\"dias\", ascending=False).head()"
   ]
  },
  {
   "cell_type": "code",
   "execution_count": 92,
   "id": "acca170c",
   "metadata": {},
   "outputs": [
    {
     "data": {
      "text/html": [
       "<div>\n",
       "<style scoped>\n",
       "    .dataframe tbody tr th:only-of-type {\n",
       "        vertical-align: middle;\n",
       "    }\n",
       "\n",
       "    .dataframe tbody tr th {\n",
       "        vertical-align: top;\n",
       "    }\n",
       "\n",
       "    .dataframe thead th {\n",
       "        text-align: right;\n",
       "    }\n",
       "</style>\n",
       "<table border=\"1\" class=\"dataframe\">\n",
       "  <thead>\n",
       "    <tr style=\"text-align: right;\">\n",
       "      <th></th>\n",
       "      <th>min</th>\n",
       "      <th>max</th>\n",
       "      <th>dias</th>\n",
       "    </tr>\n",
       "    <tr>\n",
       "      <th>UniqueAnimalID</th>\n",
       "      <th></th>\n",
       "      <th></th>\n",
       "      <th></th>\n",
       "    </tr>\n",
       "  </thead>\n",
       "  <tbody>\n",
       "    <tr>\n",
       "      <th>41</th>\n",
       "      <td>1991-07-01</td>\n",
       "      <td>2000-11-30 18:00:00</td>\n",
       "      <td>3441</td>\n",
       "    </tr>\n",
       "  </tbody>\n",
       "</table>\n",
       "</div>"
      ],
      "text/plain": [
       "                      min                 max  dias\n",
       "UniqueAnimalID                                     \n",
       "41             1991-07-01 2000-11-30 18:00:00  3441"
      ]
     },
     "execution_count": 92,
     "metadata": {},
     "output_type": "execute_result"
    }
   ],
   "source": [
    "tracking_days[tracking_days.index == 41]"
   ]
  },
  {
   "cell_type": "markdown",
   "id": "309bff41",
   "metadata": {},
   "source": [
    " Calcular distancia por dia"
   ]
  },
  {
   "cell_type": "code",
   "execution_count": 67,
   "id": "5b2e4834",
   "metadata": {},
   "outputs": [],
   "source": [
    "df_distance = new_df[[\"UniqueAnimalID\", \"TotalDistance\"]].set_index(\"UniqueAnimalID\")\n",
    "df_distance = df_distance.join(tracking_days[\"dias\"])\n",
    "df_distance[\"km_por_dia\"] = df_distance[\"TotalDistance\"] / df_distance[\"dias\"]\n"
   ]
  },
  {
   "cell_type": "code",
   "execution_count": 68,
   "id": "49c64d5f",
   "metadata": {},
   "outputs": [
    {
     "data": {
      "text/plain": [
       "<Axes: xlabel='km_por_dia', ylabel='Count'>"
      ]
     },
     "execution_count": 68,
     "metadata": {},
     "output_type": "execute_result"
    },
    {
     "data": {
      "image/png": "[encoded data removed]",
      "text/plain": [
       "<Figure size 640x480 with 1 Axes>"
      ]
     },
     "metadata": {},
     "output_type": "display_data"
    }
   ],
   "source": [
    "sns.histplot(df_distance[\"km_por_dia\"], bins=50, kde=True);\n"
   ]
  },
  {
   "cell_type": "markdown",
   "id": "eb458bb9",
   "metadata": {},
   "source": [
    "## KMean\n",
    "\n",
    "### Encontrar _k_ óptimo"
   ]
  },
  {
   "cell_type": "code",
   "execution_count": 74,
   "id": "cac6d1e0",
   "metadata": {},
   "outputs": [],
   "source": [
    "X = new_df[[\"AvgLatitude\", \"AvgLongitude\", \"TotalDistance\"]]"
   ]
  },
  {
   "cell_type": "code",
   "execution_count": 75,
   "id": "c1f20127",
   "metadata": {},
   "outputs": [],
   "source": [
    "kmeans_per_k = [KMeans(n_clusters=k, n_init=150, random_state=10).fit(X)\n",
    "                for k in range(1, 10)]\n",
    "inertias = [model.inertia_ for model in kmeans_per_k]"
   ]
  },
  {
   "cell_type": "code",
   "execution_count": 76,
   "id": "49a22eee",
   "metadata": {},
   "outputs": [
    {
     "data": {
      "text/html": [
       "<div>\n",
       "<style scoped>\n",
       "    .dataframe tbody tr th:only-of-type {\n",
       "        vertical-align: middle;\n",
       "    }\n",
       "\n",
       "    .dataframe tbody tr th {\n",
       "        vertical-align: top;\n",
       "    }\n",
       "\n",
       "    .dataframe thead th {\n",
       "        text-align: right;\n",
       "    }\n",
       "</style>\n",
       "<table border=\"1\" class=\"dataframe\">\n",
       "  <thead>\n",
       "    <tr style=\"text-align: right;\">\n",
       "      <th></th>\n",
       "      <th>inertia</th>\n",
       "      <th>inertia_1</th>\n",
       "      <th>diff%</th>\n",
       "    </tr>\n",
       "  </thead>\n",
       "  <tbody>\n",
       "    <tr>\n",
       "      <th>0</th>\n",
       "      <td>3.122698e+09</td>\n",
       "      <td>NaN</td>\n",
       "      <td>NaN</td>\n",
       "    </tr>\n",
       "    <tr>\n",
       "      <th>1</th>\n",
       "      <td>1.196628e+09</td>\n",
       "      <td>3.122698e+09</td>\n",
       "      <td>0.383203</td>\n",
       "    </tr>\n",
       "    <tr>\n",
       "      <th>2</th>\n",
       "      <td>7.049222e+08</td>\n",
       "      <td>1.196628e+09</td>\n",
       "      <td>0.589090</td>\n",
       "    </tr>\n",
       "    <tr>\n",
       "      <th>3</th>\n",
       "      <td>4.516959e+08</td>\n",
       "      <td>7.049222e+08</td>\n",
       "      <td>0.640774</td>\n",
       "    </tr>\n",
       "    <tr>\n",
       "      <th>4</th>\n",
       "      <td>2.840642e+08</td>\n",
       "      <td>4.516959e+08</td>\n",
       "      <td>0.628884</td>\n",
       "    </tr>\n",
       "    <tr>\n",
       "      <th>5</th>\n",
       "      <td>1.881384e+08</td>\n",
       "      <td>2.840642e+08</td>\n",
       "      <td>0.662309</td>\n",
       "    </tr>\n",
       "    <tr>\n",
       "      <th>6</th>\n",
       "      <td>1.304340e+08</td>\n",
       "      <td>1.881384e+08</td>\n",
       "      <td>0.693288</td>\n",
       "    </tr>\n",
       "    <tr>\n",
       "      <th>7</th>\n",
       "      <td>1.009016e+08</td>\n",
       "      <td>1.304340e+08</td>\n",
       "      <td>0.773584</td>\n",
       "    </tr>\n",
       "    <tr>\n",
       "      <th>8</th>\n",
       "      <td>7.376964e+07</td>\n",
       "      <td>1.009016e+08</td>\n",
       "      <td>0.731105</td>\n",
       "    </tr>\n",
       "  </tbody>\n",
       "</table>\n",
       "</div>"
      ],
      "text/plain": [
       "        inertia     inertia_1     diff%\n",
       "0  3.122698e+09           NaN       NaN\n",
       "1  1.196628e+09  3.122698e+09  0.383203\n",
       "2  7.049222e+08  1.196628e+09  0.589090\n",
       "3  4.516959e+08  7.049222e+08  0.640774\n",
       "4  2.840642e+08  4.516959e+08  0.628884\n",
       "5  1.881384e+08  2.840642e+08  0.662309\n",
       "6  1.304340e+08  1.881384e+08  0.693288\n",
       "7  1.009016e+08  1.304340e+08  0.773584\n",
       "8  7.376964e+07  1.009016e+08  0.731105"
      ]
     },
     "execution_count": 76,
     "metadata": {},
     "output_type": "execute_result"
    }
   ],
   "source": [
    "df_kmeans = pd.DataFrame(inertias, columns=['inertia'])\n",
    "df_kmeans['inertia_1'] = df_kmeans['inertia'].shift(1)\n",
    "df_kmeans['diff%'] = df_kmeans['inertia']/df_kmeans['inertia_1']\n",
    "df_kmeans"
   ]
  },
  {
   "cell_type": "code",
   "execution_count": 77,
   "id": "172a923a",
   "metadata": {},
   "outputs": [
    {
     "data": {
      "text/plain": [
       "Text(0, 0.5, 'Inertia')"
      ]
     },
     "execution_count": 77,
     "metadata": {},
     "output_type": "execute_result"
    },
    {
     "data": {
      "image/png": "[encoded data removed]",
      "text/plain": [
       "<Figure size 800x350 with 1 Axes>"
      ]
     },
     "metadata": {},
     "output_type": "display_data"
    }
   ],
   "source": [
    "plt.figure(figsize=(8, 3.5))\n",
    "plt.plot(range(1, 10), inertias, \"bo-\")\n",
    "plt.xlabel(\"$k$\", fontsize=14)\n",
    "plt.ylabel(\"Inertia\", fontsize=14)"
   ]
  },
  {
   "cell_type": "code",
   "execution_count": 78,
   "id": "461c847f",
   "metadata": {},
   "outputs": [
    {
     "data": {
      "image/png": "[encoded data removed]",
      "text/plain": [
       "<Figure size 800x300 with 1 Axes>"
      ]
     },
     "metadata": {},
     "output_type": "display_data"
    }
   ],
   "source": [
    "silhouette_scores = [silhouette_score(X, model.labels_)\n",
    "                     for model in kmeans_per_k[1:]]\n",
    "\n",
    "plt.figure(figsize=(8, 3))\n",
    "plt.plot(range(2, 10), silhouette_scores, \"bo-\")\n",
    "plt.xlabel(\"$k$\", fontsize=14)\n",
    "plt.ylabel(\"Silhouette score\", fontsize=14)\n",
    "# plt.axis([1.8, 8.5, 0.55, 0.7])\n",
    "plt.show()"
   ]
  },
  {
   "cell_type": "code",
   "execution_count": 79,
   "id": "feaf1817",
   "metadata": {},
   "outputs": [
    {
     "data": {
      "text/plain": [
       "[np.float64(0.7002779041747227),\n",
       " np.float64(0.6122005688234665),\n",
       " np.float64(0.5809367953714158),\n",
       " np.float64(0.5327538512384375),\n",
       " np.float64(0.5382468708729009),\n",
       " np.float64(0.5431030402257564),\n",
       " np.float64(0.543891641052001),\n",
       " np.float64(0.5286606666204882)]"
      ]
     },
     "execution_count": 79,
     "metadata": {},
     "output_type": "execute_result"
    }
   ],
   "source": [
    "silhouette_scores"
   ]
  },
  {
   "cell_type": "code",
   "execution_count": 80,
   "id": "8cc5100d",
   "metadata": {},
   "outputs": [],
   "source": [
    "# Cluster the bears using k-means\n",
    "kmeans = KMeans(n_clusters=5)\n",
    "clusters = kmeans.fit_predict(new_df[[\"AvgLatitude\", \"AvgLongitude\", \"TotalDistance\"]])\n",
    "# Add the cluster labels to the dataframe\n",
    "new_df[\"Cluster\"] = clusters"
   ]
  },
  {
   "cell_type": "code",
   "execution_count": 81,
   "id": "0c12a590",
   "metadata": {},
   "outputs": [
    {
     "data": {
      "text/html": [
       "<div>\n",
       "<style scoped>\n",
       "    .dataframe tbody tr th:only-of-type {\n",
       "        vertical-align: middle;\n",
       "    }\n",
       "\n",
       "    .dataframe tbody tr th {\n",
       "        vertical-align: top;\n",
       "    }\n",
       "\n",
       "    .dataframe thead th {\n",
       "        text-align: right;\n",
       "    }\n",
       "</style>\n",
       "<table border=\"1\" class=\"dataframe\">\n",
       "  <thead>\n",
       "    <tr style=\"text-align: right;\">\n",
       "      <th></th>\n",
       "      <th>UniqueAnimalID</th>\n",
       "      <th>AvgLatitude</th>\n",
       "      <th>AvgLongitude</th>\n",
       "      <th>TotalDistance</th>\n",
       "      <th>Cluster</th>\n",
       "    </tr>\n",
       "  </thead>\n",
       "  <tbody>\n",
       "    <tr>\n",
       "      <th>0</th>\n",
       "      <td>1</td>\n",
       "      <td>70.253606</td>\n",
       "      <td>-143.775609</td>\n",
       "      <td>1255.087194</td>\n",
       "      <td>3</td>\n",
       "    </tr>\n",
       "    <tr>\n",
       "      <th>1</th>\n",
       "      <td>3</td>\n",
       "      <td>72.124187</td>\n",
       "      <td>-143.758874</td>\n",
       "      <td>2694.620502</td>\n",
       "      <td>0</td>\n",
       "    </tr>\n",
       "    <tr>\n",
       "      <th>2</th>\n",
       "      <td>4</td>\n",
       "      <td>71.306492</td>\n",
       "      <td>-145.272690</td>\n",
       "      <td>4294.946165</td>\n",
       "      <td>0</td>\n",
       "    </tr>\n",
       "    <tr>\n",
       "      <th>3</th>\n",
       "      <td>5</td>\n",
       "      <td>70.229404</td>\n",
       "      <td>-143.898422</td>\n",
       "      <td>12597.408190</td>\n",
       "      <td>1</td>\n",
       "    </tr>\n",
       "    <tr>\n",
       "      <th>4</th>\n",
       "      <td>10</td>\n",
       "      <td>73.298487</td>\n",
       "      <td>-148.668127</td>\n",
       "      <td>5445.447921</td>\n",
       "      <td>4</td>\n",
       "    </tr>\n",
       "  </tbody>\n",
       "</table>\n",
       "</div>"
      ],
      "text/plain": [
       "   UniqueAnimalID  AvgLatitude  AvgLongitude  TotalDistance  Cluster\n",
       "0               1    70.253606   -143.775609    1255.087194        3\n",
       "1               3    72.124187   -143.758874    2694.620502        0\n",
       "2               4    71.306492   -145.272690    4294.946165        0\n",
       "3               5    70.229404   -143.898422   12597.408190        1\n",
       "4              10    73.298487   -148.668127    5445.447921        4"
      ]
     },
     "execution_count": 81,
     "metadata": {},
     "output_type": "execute_result"
    }
   ],
   "source": [
    "new_df.head()"
   ]
  },
  {
   "cell_type": "code",
   "execution_count": 82,
   "id": "432986ec",
   "metadata": {},
   "outputs": [
    {
     "data": {
      "text/plain": [
       "(406, 5)"
      ]
     },
     "execution_count": 82,
     "metadata": {},
     "output_type": "execute_result"
    }
   ],
   "source": [
    "new_df.shape"
   ]
  },
  {
   "cell_type": "markdown",
   "id": "1964de11",
   "metadata": {},
   "source": [
    "## Analyze female polar bear behaviour"
   ]
  },
  {
   "cell_type": "code",
   "execution_count": 83,
   "id": "bfe87a31",
   "metadata": {},
   "outputs": [
    {
     "name": "stdout",
     "output_type": "stream",
     "text": [
      "         UniqueAnimalID  AvgLatitude  AvgLongitude  TotalDistance\n",
      "Cluster                                                          \n",
      "0                   147    72.606180   -111.728351    3567.891512\n",
      "1                    17    73.188471   -128.953422   11579.348808\n",
      "2                     1    71.995771   -143.345428   26299.811749\n",
      "3                   187    71.849195    -91.626041    1686.623266\n",
      "4                    54    72.743135   -139.308226    6811.841785\n"
     ]
    }
   ],
   "source": [
    "cluster_summary = new_df.groupby(\"Cluster\").agg(\n",
    "    {\"UniqueAnimalID\": \"count\",\n",
    "     \"AvgLatitude\": \"mean\",\n",
    "     \"AvgLongitude\": \"mean\",\n",
    "     \"TotalDistance\": \"mean\"\n",
    "    }\n",
    ")\n",
    "# Print the summary statistics for each cluster\n",
    "print(cluster_summary)"
   ]
  },
  {
   "cell_type": "markdown",
   "id": "374093bd",
   "metadata": {},
   "source": [
    "Mostrar perfiles por cluster con km/dia promedio en lugar del total"
   ]
  },
  {
   "cell_type": "code",
   "execution_count": 84,
   "id": "45284393",
   "metadata": {},
   "outputs": [],
   "source": [
    "df_cluster_summary = new_df.merge(df_distance[[\"km_por_dia\"]], on=\"UniqueAnimalID\")\n",
    "resumen_cluster = df_cluster_summary.groupby(\"Cluster\").agg(\n",
    "    osas=(\"UniqueAnimalID\", \"count\"),\n",
    "    km_dia_mean=(\"km_por_dia\", \"mean\"),\n",
    "    km_dia_std=(\"km_por_dia\", \"std\"),\n",
    "    latitud_prom=(\"AvgLatitude\", \"mean\")\n",
    ").reset_index()\n"
   ]
  },
  {
   "cell_type": "markdown",
   "id": "968757dd",
   "metadata": {},
   "source": [
    "Esto da un panorama mucho más realista y permitiría responder con confianza a preguntas como: \"¿Hay grupos que se mueven más por día? ¿Existen diferencias latitudinales consistentes?\""
   ]
  },
  {
   "cell_type": "code",
   "execution_count": 94,
   "id": "041e320e",
   "metadata": {},
   "outputs": [
    {
     "data": {
      "text/html": [
       "<div>\n",
       "<style scoped>\n",
       "    .dataframe tbody tr th:only-of-type {\n",
       "        vertical-align: middle;\n",
       "    }\n",
       "\n",
       "    .dataframe tbody tr th {\n",
       "        vertical-align: top;\n",
       "    }\n",
       "\n",
       "    .dataframe thead th {\n",
       "        text-align: right;\n",
       "    }\n",
       "</style>\n",
       "<table border=\"1\" class=\"dataframe\">\n",
       "  <thead>\n",
       "    <tr style=\"text-align: right;\">\n",
       "      <th></th>\n",
       "      <th>Cluster</th>\n",
       "      <th>osas</th>\n",
       "      <th>km_dia_mean</th>\n",
       "      <th>km_dia_std</th>\n",
       "      <th>latitud_prom</th>\n",
       "    </tr>\n",
       "  </thead>\n",
       "  <tbody>\n",
       "    <tr>\n",
       "      <th>0</th>\n",
       "      <td>0</td>\n",
       "      <td>147</td>\n",
       "      <td>16.282671</td>\n",
       "      <td>7.605643</td>\n",
       "      <td>72.606180</td>\n",
       "    </tr>\n",
       "    <tr>\n",
       "      <th>3</th>\n",
       "      <td>3</td>\n",
       "      <td>187</td>\n",
       "      <td>11.756655</td>\n",
       "      <td>4.277620</td>\n",
       "      <td>71.849195</td>\n",
       "    </tr>\n",
       "    <tr>\n",
       "      <th>4</th>\n",
       "      <td>4</td>\n",
       "      <td>54</td>\n",
       "      <td>9.267537</td>\n",
       "      <td>3.438286</td>\n",
       "      <td>72.743135</td>\n",
       "    </tr>\n",
       "    <tr>\n",
       "      <th>1</th>\n",
       "      <td>1</td>\n",
       "      <td>17</td>\n",
       "      <td>7.314145</td>\n",
       "      <td>3.224811</td>\n",
       "      <td>73.188471</td>\n",
       "    </tr>\n",
       "    <tr>\n",
       "      <th>2</th>\n",
       "      <td>2</td>\n",
       "      <td>1</td>\n",
       "      <td>4.150854</td>\n",
       "      <td>NaN</td>\n",
       "      <td>71.995771</td>\n",
       "    </tr>\n",
       "  </tbody>\n",
       "</table>\n",
       "</div>"
      ],
      "text/plain": [
       "   Cluster  osas  km_dia_mean  km_dia_std  latitud_prom\n",
       "0        0   147    16.282671    7.605643     72.606180\n",
       "3        3   187    11.756655    4.277620     71.849195\n",
       "4        4    54     9.267537    3.438286     72.743135\n",
       "1        1    17     7.314145    3.224811     73.188471\n",
       "2        2     1     4.150854         NaN     71.995771"
      ]
     },
     "execution_count": 94,
     "metadata": {},
     "output_type": "execute_result"
    }
   ],
   "source": [
    "resumen_cluster.sort_values(by='km_dia_mean', ascending =False)"
   ]
  },
  {
   "cell_type": "code",
   "execution_count": 96,
   "id": "b734d8b1",
   "metadata": {},
   "outputs": [
    {
     "data": {
      "image/png": "[encoded data removed]",
      "text/plain": [
       "<Figure size 1000x500 with 1 Axes>"
      ]
     },
     "metadata": {},
     "output_type": "display_data"
    }
   ],
   "source": [
    "plt.figure(figsize=(10, 5))\n",
    "sns.violinplot(data=resumen_cluster, x=\"Cluster\", y=\"km_dia_mean\", palette=\"magma\", inner=\"quartile\")\n",
    "plt.title(\"Patrones de movimiento por cluster (violín)\")\n",
    "plt.xlabel(\"Cluster\")\n",
    "plt.ylabel(\"Km por día\")\n",
    "plt.tight_layout()\n",
    "plt.show()\n"
   ]
  },
  {
   "cell_type": "code",
   "execution_count": 98,
   "id": "c3f5b3d9",
   "metadata": {},
   "outputs": [
    {
     "data": {
      "image/png": "[encoded data removed]",
      "text/plain": [
       "<Figure size 640x480 with 1 Axes>"
      ]
     },
     "metadata": {},
     "output_type": "display_data"
    }
   ],
   "source": [
    "sns.histplot(resumen_cluster[\"km_dia_mean\"], bins=5, kde=True)\n",
    "plt.title(\"Distribución global de km por día\")\n",
    "plt.xlabel(\"Km por día\")\n",
    "plt.show()\n"
   ]
  },
  {
   "cell_type": "code",
   "execution_count": 25,
   "id": "ecfbf2b9",
   "metadata": {},
   "outputs": [
    {
     "data": {
      "text/html": [
       "<div>\n",
       "<style scoped>\n",
       "    .dataframe tbody tr th:only-of-type {\n",
       "        vertical-align: middle;\n",
       "    }\n",
       "\n",
       "    .dataframe tbody tr th {\n",
       "        vertical-align: top;\n",
       "    }\n",
       "\n",
       "    .dataframe thead th {\n",
       "        text-align: right;\n",
       "    }\n",
       "</style>\n",
       "<table border=\"1\" class=\"dataframe\">\n",
       "  <thead>\n",
       "    <tr style=\"text-align: right;\">\n",
       "      <th></th>\n",
       "      <th>UniqueAnimalID</th>\n",
       "      <th>AvgLatitude</th>\n",
       "      <th>AvgLongitude</th>\n",
       "      <th>TotalDistance</th>\n",
       "      <th>Cluster</th>\n",
       "    </tr>\n",
       "  </thead>\n",
       "  <tbody>\n",
       "    <tr>\n",
       "      <th>0</th>\n",
       "      <td>1</td>\n",
       "      <td>70.253606</td>\n",
       "      <td>-143.775609</td>\n",
       "      <td>1255.087194</td>\n",
       "      <td>1</td>\n",
       "    </tr>\n",
       "    <tr>\n",
       "      <th>1</th>\n",
       "      <td>3</td>\n",
       "      <td>72.124187</td>\n",
       "      <td>-143.758874</td>\n",
       "      <td>2694.620502</td>\n",
       "      <td>1</td>\n",
       "    </tr>\n",
       "    <tr>\n",
       "      <th>2</th>\n",
       "      <td>4</td>\n",
       "      <td>71.306492</td>\n",
       "      <td>-145.272690</td>\n",
       "      <td>4294.946165</td>\n",
       "      <td>0</td>\n",
       "    </tr>\n",
       "    <tr>\n",
       "      <th>3</th>\n",
       "      <td>5</td>\n",
       "      <td>70.229404</td>\n",
       "      <td>-143.898422</td>\n",
       "      <td>12597.408190</td>\n",
       "      <td>4</td>\n",
       "    </tr>\n",
       "    <tr>\n",
       "      <th>4</th>\n",
       "      <td>10</td>\n",
       "      <td>73.298487</td>\n",
       "      <td>-148.668127</td>\n",
       "      <td>5445.447921</td>\n",
       "      <td>0</td>\n",
       "    </tr>\n",
       "  </tbody>\n",
       "</table>\n",
       "</div>"
      ],
      "text/plain": [
       "   UniqueAnimalID  AvgLatitude  AvgLongitude  TotalDistance  Cluster\n",
       "0               1    70.253606   -143.775609    1255.087194        1\n",
       "1               3    72.124187   -143.758874    2694.620502        1\n",
       "2               4    71.306492   -145.272690    4294.946165        0\n",
       "3               5    70.229404   -143.898422   12597.408190        4\n",
       "4              10    73.298487   -148.668127    5445.447921        0"
      ]
     },
     "execution_count": 25,
     "metadata": {},
     "output_type": "execute_result"
    }
   ],
   "source": [
    "new_df.head()"
   ]
  },
  {
   "cell_type": "code",
   "execution_count": 26,
   "id": "e7085008",
   "metadata": {},
   "outputs": [
    {
     "data": {
      "application/vnd.jupyter.widget-view+json": {
       "model_id": "f43ffd89b3ab4da6a1e3cfc8453c9f94",
       "version_major": 2,
       "version_minor": 0
      },
      "text/plain": [
       "Map(center=[75, -95], controls=(ZoomControl(options=['position', 'zoom_in_text', 'zoom_in_title', 'zoom_out_te…"
      ]
     },
     "execution_count": 26,
     "metadata": {},
     "output_type": "execute_result"
    }
   ],
   "source": [
    "# Cargar DataFrame\n",
    "# new_df debe tener columnas: AvgLatitude, AvgLongitude, Cluster, UniqueAnimalID, TotalDistance\n",
    "# new_df = pd.read_csv(\"polar_bears_summary.csv\")\n",
    "\n",
    "# Paleta de colores por clúster\n",
    "cluster_colors = {\n",
    "    0: \"red\",\n",
    "    1: \"blue\",\n",
    "    2: \"green\",\n",
    "    3: \"orange\",\n",
    "    4: \"purple\"\n",
    "}\n",
    "\n",
    "# Crea el mapa base\n",
    "m = Map(center=(75, -95), zoom=3, basemap=basemaps.OpenStreetMap.Mapnik)\n",
    "\n",
    "# Crea los marcadores\n",
    "markers = []\n",
    "for _, row in new_df.iterrows():\n",
    "    color = cluster_colors.get(row[\"Cluster\"], \"gray\")\n",
    "    html = HTML()\n",
    "    html.value = f\"\"\"\n",
    "    <b>{row['UniqueAnimalID']}</b><br>\n",
    "    Cluster: {row['Cluster']}<br>\n",
    "    Distancia: {row['TotalDistance']} km\n",
    "    \"\"\"\n",
    "    marker = Marker(location=(row[\"AvgLatitude\"], row[\"AvgLongitude\"]),\n",
    "                    draggable=False,\n",
    "                    icon_kwargs={\"color\": color})\n",
    "    marker.popup = html\n",
    "    markers.append(marker)\n",
    "\n",
    "# Agrupa en clúster\n",
    "marker_cluster = MarkerCluster(markers=markers)\n",
    "m.add_layer(marker_cluster)\n",
    "\n",
    "m\n"
   ]
  },
  {
   "cell_type": "markdown",
   "id": "105751c0",
   "metadata": {},
   "source": []
  },
  {
   "cell_type": "code",
   "execution_count": 47,
   "id": "4d5e6455",
   "metadata": {},
   "outputs": [],
   "source": [
    "from ipyleaflet import Map, CircleMarker, MarkerCluster, basemaps\n",
    "from ipywidgets import HTML\n",
    "import pandas as pd\n",
    "import matplotlib.pyplot as plt\n",
    "import matplotlib.cm as cm\n",
    "import matplotlib.colors as colors\n",
    "\n",
    "#  `new_df` con AvgLatitude, AvgLongitude, TotalDistance, UniqueAnimalID\n",
    "# Normalizar TotalDistance para colores y tamaños\n",
    "distancias = new_df[\"TotalDistance\"]\n",
    "# norm = colors.Normalize(vmin=distancias.min(), vmax=distancias.max())\n",
    "# colormap = cm.get_cmap(\"plasma\")\n",
    "# Normaliza la escala\n",
    "norm = colors.Normalize(vmin=new_df[\"TotalDistance\"].min(), vmax=new_df[\"TotalDistance\"].max())\n",
    "colormap_func = cm.get_cmap(\"viridis\")  # o viridis, inferno, plasma...\n",
    "\n",
    "# def distancia_a_color(dist):\n",
    "#     rgba = colormap(norm(dist))\n",
    "#     return f\"rgba({int(rgba[0]*255)}, {int(rgba[1]*255)}, {int(rgba[2]*255)}, 0.7)\"\n",
    "\n",
    "def distancia_a_color(dist):\n",
    "    rgba = colormap_func(norm(dist))\n",
    "    r, g, b = [int(x * 255) for x in rgba[:3]]  # ignora el alpha original\n",
    "    return f\"rgba({r}, {g}, {b}, 0.7)\"\n",
    "\n",
    "def distancia_a_radio(dist):\n",
    "    return 5 + (norm(dist) * 15)  # tamaño mínimo 5, máximo 20\n",
    "\n",
    "# Crear el mapa\n",
    "m = Map(center=(75, -95), zoom=3, basemap=basemaps.OpenStreetMap.Mapnik)\n",
    "\n",
    "# Crear marcadores\n",
    "marcadores = []\n",
    "for _, row in new_df.iterrows():\n",
    "    color = distancia_a_color(row[\"TotalDistance\"])\n",
    "    radio = distancia_a_radio(row[\"TotalDistance\"])\n",
    "    \n",
    "    popup = HTML()\n",
    "    popup.value = f\"\"\"\n",
    "    <b>{'Bear Id:' + str(int(row['UniqueAnimalID']))}</b><br>\n",
    "    Distancia: {row['TotalDistance']:.1f} km\n",
    "    \"\"\"\n",
    "\n",
    "    marcador = CircleMarker()\n",
    "    marcador.location = (row[\"AvgLatitude\"], row[\"AvgLongitude\"])\n",
    "    marcador.radius = int(radio)\n",
    "    marcador.color = color\n",
    "    marcador.fill_color = color\n",
    "    marcador.fill_opacity = 0.8\n",
    "    marcador.popup = popup\n",
    "    # marcador.draggable=True\n",
    "    # marcador.zoom_control=True\n",
    "    # marcador.world_copy_jump=True\n",
    "\n",
    "    marcadores.append(marcador)\n"
   ]
  },
  {
   "cell_type": "markdown",
   "id": "024a1623",
   "metadata": {},
   "source": [
    "### Leyenda visual del color (_TotalDistance_)"
   ]
  },
  {
   "cell_type": "code",
   "execution_count": 48,
   "id": "15fdccd2",
   "metadata": {},
   "outputs": [
    {
     "data": {
      "application/vnd.jupyter.widget-view+json": {
       "model_id": "b543eba7ba8440668642054ac4ff2e02",
       "version_major": 2,
       "version_minor": 0
      },
      "text/plain": [
       "Map(center=[75, -95], controls=(ZoomControl(options=['position', 'zoom_in_text', 'zoom_in_title', 'zoom_out_te…"
      ]
     },
     "execution_count": 48,
     "metadata": {},
     "output_type": "execute_result"
    }
   ],
   "source": [
    "# Agrupar en cluster y mostrar\n",
    "import branca.colormap as bcm\n",
    "\n",
    "# Creamos una escala del mismo rango que usamos para colorear\n",
    "colormap = bcm.LinearColormap(\n",
    "    colors=[\"blue\", \"lime\", \"yellow\", \"red\"],\n",
    "    vmin=new_df[\"TotalDistance\"].min(),\n",
    "    vmax=new_df[\"TotalDistance\"].max(),\n",
    "    caption=\"Distancia total recorrida (km)\"\n",
    ")\n",
    "\n",
    "m.add_control(colormap)  # Esto añade la leyenda al mapa\n",
    "\n",
    "cluster = MarkerCluster(markers=marcadores)\n",
    "m.add_layer(cluster)\n",
    "m\n"
   ]
  },
  {
   "cell_type": "code",
   "execution_count": 29,
   "id": "53dbf5ab",
   "metadata": {},
   "outputs": [
    {
     "data": {
      "text/html": [
       "<div>\n",
       "<style scoped>\n",
       "    .dataframe tbody tr th:only-of-type {\n",
       "        vertical-align: middle;\n",
       "    }\n",
       "\n",
       "    .dataframe tbody tr th {\n",
       "        vertical-align: top;\n",
       "    }\n",
       "\n",
       "    .dataframe thead th {\n",
       "        text-align: right;\n",
       "    }\n",
       "</style>\n",
       "<table border=\"1\" class=\"dataframe\">\n",
       "  <thead>\n",
       "    <tr style=\"text-align: right;\">\n",
       "      <th></th>\n",
       "      <th>UniqueAnimalID</th>\n",
       "      <th>AvgLatitude</th>\n",
       "      <th>AvgLongitude</th>\n",
       "      <th>TotalDistance</th>\n",
       "      <th>Cluster</th>\n",
       "    </tr>\n",
       "  </thead>\n",
       "  <tbody>\n",
       "    <tr>\n",
       "      <th>0</th>\n",
       "      <td>1</td>\n",
       "      <td>70.253606</td>\n",
       "      <td>-143.775609</td>\n",
       "      <td>1255.087194</td>\n",
       "      <td>1</td>\n",
       "    </tr>\n",
       "    <tr>\n",
       "      <th>1</th>\n",
       "      <td>3</td>\n",
       "      <td>72.124187</td>\n",
       "      <td>-143.758874</td>\n",
       "      <td>2694.620502</td>\n",
       "      <td>1</td>\n",
       "    </tr>\n",
       "    <tr>\n",
       "      <th>2</th>\n",
       "      <td>4</td>\n",
       "      <td>71.306492</td>\n",
       "      <td>-145.272690</td>\n",
       "      <td>4294.946165</td>\n",
       "      <td>0</td>\n",
       "    </tr>\n",
       "    <tr>\n",
       "      <th>3</th>\n",
       "      <td>5</td>\n",
       "      <td>70.229404</td>\n",
       "      <td>-143.898422</td>\n",
       "      <td>12597.408190</td>\n",
       "      <td>4</td>\n",
       "    </tr>\n",
       "    <tr>\n",
       "      <th>4</th>\n",
       "      <td>10</td>\n",
       "      <td>73.298487</td>\n",
       "      <td>-148.668127</td>\n",
       "      <td>5445.447921</td>\n",
       "      <td>0</td>\n",
       "    </tr>\n",
       "  </tbody>\n",
       "</table>\n",
       "</div>"
      ],
      "text/plain": [
       "   UniqueAnimalID  AvgLatitude  AvgLongitude  TotalDistance  Cluster\n",
       "0               1    70.253606   -143.775609    1255.087194        1\n",
       "1               3    72.124187   -143.758874    2694.620502        1\n",
       "2               4    71.306492   -145.272690    4294.946165        0\n",
       "3               5    70.229404   -143.898422   12597.408190        4\n",
       "4              10    73.298487   -148.668127    5445.447921        0"
      ]
     },
     "execution_count": 29,
     "metadata": {},
     "output_type": "execute_result"
    }
   ],
   "source": [
    "new_df.head()"
   ]
  },
  {
   "cell_type": "markdown",
   "id": "a600d8a1",
   "metadata": {},
   "source": [
    "### Cálculo de _StepsLength_ a partir de coordenadas consecutivas"
   ]
  },
  {
   "cell_type": "code",
   "execution_count": 30,
   "id": "ac40f39d",
   "metadata": {},
   "outputs": [
    {
     "data": {
      "text/plain": [
       "UniqueAnimalID\n",
       "1       1260.018349\n",
       "3       2705.176127\n",
       "4       4311.390758\n",
       "5      12646.833579\n",
       "10      5466.987751\n",
       "           ...     \n",
       "536     3820.979929\n",
       "537     1340.958449\n",
       "539     2322.372371\n",
       "540     1260.193080\n",
       "541     4880.747386\n",
       "Name: StepLength, Length: 406, dtype: float64"
      ]
     },
     "execution_count": 30,
     "metadata": {},
     "output_type": "execute_result"
    }
   ],
   "source": [
    "#  Asegurar el orden temporal por individuo\n",
    "df_raw = df_raw.sort_values([\"UniqueAnimalID\", \"timestamp\"])\n",
    "\n",
    "from geopy.distance import geodesic\n",
    "\n",
    "# Calculamos desplazamientos paso a paso por oso\n",
    "def calcular_step_lengths(sub_df):\n",
    "    '''\n",
    "        Calcular _StepLength_ en kilómetros\n",
    "    '''\n",
    "    pasos = []\n",
    "    coords = list(zip(sub_df[\"mu_lat\"], sub_df[\"mu_lon\"]))\n",
    "    for i in range(1, len(coords)):\n",
    "        d = geodesic(coords[i-1], coords[i]).kilometers\n",
    "        pasos.append(d)\n",
    "    # Añade un 0 al principio para que tenga el mismo número de filas\n",
    "    pasos.insert(0, 0.0)\n",
    "    return pasos\n",
    "\n",
    "df_raw[\"StepLength\"] = df_raw.groupby(\"UniqueAnimalID\").apply(calcular_step_lengths).explode().astype(float).values\n",
    "\n",
    "df_raw.groupby(\"UniqueAnimalID\")[\"StepLength\"].sum()\n",
    "\n"
   ]
  },
  {
   "cell_type": "code",
   "execution_count": 31,
   "id": "1245392e",
   "metadata": {},
   "outputs": [
    {
     "data": {
      "text/html": [
       "<div>\n",
       "<style scoped>\n",
       "    .dataframe tbody tr th:only-of-type {\n",
       "        vertical-align: middle;\n",
       "    }\n",
       "\n",
       "    .dataframe tbody tr th {\n",
       "        vertical-align: top;\n",
       "    }\n",
       "\n",
       "    .dataframe thead th {\n",
       "        text-align: right;\n",
       "    }\n",
       "</style>\n",
       "<table border=\"1\" class=\"dataframe\">\n",
       "  <thead>\n",
       "    <tr style=\"text-align: right;\">\n",
       "      <th></th>\n",
       "      <th>UniqueAnimalID</th>\n",
       "      <th>AvgLatitude</th>\n",
       "      <th>AvgLongitude</th>\n",
       "      <th>TotalDistance</th>\n",
       "      <th>Cluster</th>\n",
       "    </tr>\n",
       "  </thead>\n",
       "  <tbody>\n",
       "    <tr>\n",
       "      <th>0</th>\n",
       "      <td>1</td>\n",
       "      <td>70.253606</td>\n",
       "      <td>-143.775609</td>\n",
       "      <td>1255.087194</td>\n",
       "      <td>1</td>\n",
       "    </tr>\n",
       "    <tr>\n",
       "      <th>1</th>\n",
       "      <td>3</td>\n",
       "      <td>72.124187</td>\n",
       "      <td>-143.758874</td>\n",
       "      <td>2694.620502</td>\n",
       "      <td>1</td>\n",
       "    </tr>\n",
       "    <tr>\n",
       "      <th>2</th>\n",
       "      <td>4</td>\n",
       "      <td>71.306492</td>\n",
       "      <td>-145.272690</td>\n",
       "      <td>4294.946165</td>\n",
       "      <td>0</td>\n",
       "    </tr>\n",
       "    <tr>\n",
       "      <th>3</th>\n",
       "      <td>5</td>\n",
       "      <td>70.229404</td>\n",
       "      <td>-143.898422</td>\n",
       "      <td>12597.408190</td>\n",
       "      <td>4</td>\n",
       "    </tr>\n",
       "    <tr>\n",
       "      <th>4</th>\n",
       "      <td>10</td>\n",
       "      <td>73.298487</td>\n",
       "      <td>-148.668127</td>\n",
       "      <td>5445.447921</td>\n",
       "      <td>0</td>\n",
       "    </tr>\n",
       "  </tbody>\n",
       "</table>\n",
       "</div>"
      ],
      "text/plain": [
       "   UniqueAnimalID  AvgLatitude  AvgLongitude  TotalDistance  Cluster\n",
       "0               1    70.253606   -143.775609    1255.087194        1\n",
       "1               3    72.124187   -143.758874    2694.620502        1\n",
       "2               4    71.306492   -145.272690    4294.946165        0\n",
       "3               5    70.229404   -143.898422   12597.408190        4\n",
       "4              10    73.298487   -148.668127    5445.447921        0"
      ]
     },
     "execution_count": 31,
     "metadata": {},
     "output_type": "execute_result"
    }
   ],
   "source": [
    "new_df.head()"
   ]
  },
  {
   "cell_type": "code",
   "execution_count": 32,
   "id": "dba1f524",
   "metadata": {},
   "outputs": [],
   "source": [
    "df_cluster = new_df.copy()"
   ]
  },
  {
   "cell_type": "markdown",
   "id": "29e64376",
   "metadata": {},
   "source": [
    "### Slider para filtrar por año"
   ]
  },
  {
   "cell_type": "code",
   "execution_count": 33,
   "id": "6ebb276c",
   "metadata": {},
   "outputs": [],
   "source": [
    "df_raw[\"Year\"] = pd.to_datetime(df_raw[\"timestamp\"]).dt.year\n",
    "\n",
    "avg_lat_lon_year = df_raw.groupby([\"UniqueAnimalID\", \"Year\"])[[\"mu_lat\", \"mu_lon\"]].mean()\n",
    "total_distance_year = df_raw.groupby([\"UniqueAnimalID\", \"Year\"])[\"StepLength\"].sum()\n",
    "\n",
    "new_df = pd.DataFrame({\n",
    "    \"UniqueAnimalID\": avg_lat_lon_year.index.get_level_values(0),\n",
    "    \"Year\": avg_lat_lon_year.index.get_level_values(1),                 # < --------------------- amplio\n",
    "    \"AvgLatitude\": avg_lat_lon_year[\"mu_lat\"].values,\n",
    "    \"AvgLongitude\": avg_lat_lon_year[\"mu_lon\"].values,\n",
    "    \"TotalDistance\": total_distance_year.values\n",
    "})\n"
   ]
  },
  {
   "cell_type": "code",
   "execution_count": 34,
   "id": "eee1c2d9",
   "metadata": {},
   "outputs": [
    {
     "data": {
      "application/vnd.jupyter.widget-view+json": {
       "model_id": "3b0fda99193c407dbd9f7580ef7e87a5",
       "version_major": 2,
       "version_minor": 0
      },
      "text/plain": [
       "IntSlider(value=1985, description='Año:', max=2017, min=1985)"
      ]
     },
     "metadata": {},
     "output_type": "display_data"
    },
    {
     "data": {
      "application/vnd.jupyter.widget-view+json": {
       "model_id": "9a92380872694d2ea72eb71cd8455f46",
       "version_major": 2,
       "version_minor": 0
      },
      "text/plain": [
       "Output()"
      ]
     },
     "metadata": {},
     "output_type": "display_data"
    }
   ],
   "source": [
    "import ipywidgets as widgets\n",
    "from IPython.display import display\n",
    "\n",
    "slider = widgets.IntSlider(\n",
    "    value=new_df[\"Year\"].min(),\n",
    "    min=new_df[\"Year\"].min(),\n",
    "    max=new_df[\"Year\"].max(),\n",
    "    step=1,\n",
    "    description=\"Año:\"\n",
    ")\n",
    "\n",
    "# Contenedor para regenerar el mapa\n",
    "output_map = widgets.Output()\n",
    "\n",
    "def actualizar_mapa(cambio):\n",
    "    output_map.clear_output()\n",
    "    with output_map:\n",
    "        # Filtra por año\n",
    "        df_filtrado = new_df[new_df[\"Year\"] == slider.value]\n",
    "\n",
    "        # Genera nuevos marcadores (como hicimos antes)\n",
    "        marcadores = []\n",
    "        for _, row in df_filtrado.iterrows():\n",
    "            color = distancia_a_color(row[\"TotalDistance\"])\n",
    "            radio = distancia_a_radio(row[\"TotalDistance\"])\n",
    "            popup = HTML()\n",
    "            popup.value = f\"<b>{row['UniqueAnimalID']}</b><br>Distancia: {row['TotalDistance']:.1f} km\"\n",
    "            marcador = CircleMarker(location=(row[\"AvgLatitude\"], row[\"AvgLongitude\"]),\n",
    "                                    radius=int(radio), color=color, fill_color=color, fill_opacity=0.8,\n",
    "                                    popup=popup)\n",
    "            marcadores.append(marcador)\n",
    "\n",
    "        cluster = MarkerCluster(markers=marcadores)\n",
    "        new_map = Map(center=(75, -95), zoom=3, basemap=basemaps.OpenStreetMap.Mapnik)\n",
    "        new_map.add_layer(cluster)\n",
    "        new_map.add_control(colormap)\n",
    "        display(new_map)\n",
    "\n",
    "slider.observe(actualizar_mapa, names=\"value\")\n",
    "display(slider, output_map)\n",
    "\n",
    "# Inicializa\n",
    "actualizar_mapa(None)\n"
   ]
  },
  {
   "cell_type": "code",
   "execution_count": null,
   "id": "6d12e83b",
   "metadata": {},
   "outputs": [],
   "source": []
  },
  {
   "cell_type": "code",
   "execution_count": 35,
   "id": "79438d91",
   "metadata": {},
   "outputs": [
    {
     "data": {
      "text/plain": [
       "Year\n",
       "2009    48\n",
       "1993    43\n",
       "1992    42\n",
       "2008    38\n",
       "1990    30\n",
       "1988    29\n",
       "1989    28\n",
       "2011    27\n",
       "2004    27\n",
       "1991    25\n",
       "2010    25\n",
       "2005    20\n",
       "2006    19\n",
       "2015    18\n",
       "2007    17\n",
       "1987    16\n",
       "2002    16\n",
       "2013    16\n",
       "2000    16\n",
       "1999    16\n",
       "2001    15\n",
       "1986    13\n",
       "2017    13\n",
       "2014    12\n",
       "2003     9\n",
       "2016     9\n",
       "2012     8\n",
       "1994     6\n",
       "1998     6\n",
       "1995     3\n",
       "1985     2\n",
       "Name: UniqueAnimalID, dtype: int64"
      ]
     },
     "execution_count": 35,
     "metadata": {},
     "output_type": "execute_result"
    }
   ],
   "source": [
    "df_raw.groupby('Year')['UniqueAnimalID'].nunique().sort_values(ascending=False)"
   ]
  },
  {
   "cell_type": "code",
   "execution_count": 36,
   "id": "16b7ffcd",
   "metadata": {},
   "outputs": [
    {
     "data": {
      "image/png": "[encoded data removed]",
      "text/plain": [
       "<Figure size 800x400 with 1 Axes>"
      ]
     },
     "metadata": {},
     "output_type": "display_data"
    }
   ],
   "source": [
    "plt.figure(figsize=(8, 4))\n",
    "sns.barplot(df_raw.groupby('Year')['UniqueAnimalID'].nunique(), palette='viridis')\n",
    "plt.xticks(rotation=30)\n",
    "plt.title('Número de osos únicos por año con línea de tendencia')\n",
    "plt.ylabel('Osos únicos')\n",
    "plt.xlabel('Año')\n",
    "plt.xticks(rotation=45)\n",
    "plt.tight_layout()\n",
    "plt.show();"
   ]
  },
  {
   "cell_type": "markdown",
   "id": "3ef69d92",
   "metadata": {},
   "source": [
    "### Capa dinámica de hielo marino"
   ]
  },
  {
   "cell_type": "markdown",
   "id": "0047a48a",
   "metadata": {},
   "source": [
    "#### Carga y preprocesamiento de CDR de hielo marino"
   ]
  },
  {
   "cell_type": "markdown",
   "id": "1849345a",
   "metadata": {},
   "source": [
    "#### Función que genera una imagen PNG por año (como overlay)"
   ]
  },
  {
   "cell_type": "code",
   "execution_count": 37,
   "id": "30197eb1",
   "metadata": {},
   "outputs": [],
   "source": [
    "from ipyleaflet import ImageOverlay\n",
    "from matplotlib import cm\n",
    "import xarray as xr\n",
    "import numpy as np\n",
    "from PIL import Image\n",
    "import io\n",
    "import base64\n",
    "import pandas as pd\n",
    "\n",
    "def generar_overlay_ice(year, month=9):\n",
    "    # Dataset ERDDAP (NOAA/NSIDC CDR V5 mensual hemisferio norte)\n",
    "    url = 'https://polarwatch.noaa.gov/erddap/griddap/nsidcG02202v4nh1day'\n",
    "\n",
    "    try:\n",
    "        # Abrimos el dataset remoto\n",
    "        ds = xr.open_dataset(url)\n",
    "\n",
    "        # Aseguramos formato datetime\n",
    "        ds[\"time\"] = pd.to_datetime(ds[\"time\"].values)\n",
    "\n",
    "        # Seleccionamos la fecha más cercana al primer día del mes y año\n",
    "        fecha_objetivo = pd.Timestamp(f\"{year}-{month:02d}-01\")\n",
    "        da = ds[\"cdr_seaice_conc\"].sel(time=fecha_objetivo, method=\"nearest\")\n",
    "\n",
    "        # Datos crudos\n",
    "        ice = da.values\n",
    "        ice_norm = np.clip(ice / 100.0, 0, 1)\n",
    "\n",
    "        # Aplicamos colormap\n",
    "        # rgba = (cm.get_cmap(\"Blues_r\")(ice_norm) * 255).astype(np.uint8)\n",
    "        rgba = (cm.get_cmap(\"viridis\")(ice_norm) * 255).astype(np.uint8)\n",
    "        img = Image.fromarray(rgba, mode=\"RGBA\")\n",
    "\n",
    "        # Convertimos a base64 en memoria\n",
    "        buffer = io.BytesIO()\n",
    "        img.save(buffer, format=\"PNG\")\n",
    "        img_b64 = base64.b64encode(buffer.getvalue()).decode(\"utf-8\")\n",
    "        img_url = f\"data:image/png;base64,{img_b64}\"\n",
    "\n",
    "        # Coordenadas del grid\n",
    "        # lat_min, lat_max = float(ds[\"latitude\"].min()), float(ds[\"latitude\"].max())\n",
    "        # lon_min, lon_max = float(ds[\"longitude\"].min()), float(ds[\"longitude\"].max())\n",
    "        # bounds = [lat_min, lon_min, lat_max, lon_max]\n",
    "        # Usamos límites fijos para el Ártico si no hay lat/lon en el dataset\n",
    "        bounds = [40.0, -180.0, 90.0, 180.0]\n",
    "\n",
    "        return ImageOverlay(url=img_url, bounds=bounds, opacity=0.4)\n",
    "\n",
    "    except Exception as e:\n",
    "        print(f\"⚠️ Error al generar overlay para {year}-{month:02d}: {e}\")\n",
    "        return None\n"
   ]
  },
  {
   "cell_type": "markdown",
   "id": "be4cf1cf",
   "metadata": {},
   "source": [
    "#### Integrarlo en el slider junto al mapa y marcadores"
   ]
  },
  {
   "cell_type": "code",
   "execution_count": 38,
   "id": "5b2c56a1",
   "metadata": {},
   "outputs": [
    {
     "name": "stdout",
     "output_type": "stream",
     "text": [
      "⚠️ Error al generar overlay para 1985-09: [Errno -68] NetCDF: I/O failure: 'https://polarwatch.noaa.gov/erddap/griddap/nsidcG02202v4nh1day'\n"
     ]
    },
    {
     "ename": "NameError",
     "evalue": "name 'new_map' is not defined",
     "output_type": "error",
     "traceback": [
      "\u001b[31m---------------------------------------------------------------------------\u001b[39m",
      "\u001b[31mNameError\u001b[39m                                 Traceback (most recent call last)",
      "\u001b[36mCell\u001b[39m\u001b[36m \u001b[39m\u001b[32mIn[38]\u001b[39m\u001b[32m, line 3\u001b[39m\n\u001b[32m      1\u001b[39m \u001b[38;5;66;03m# Añadir overlay de hielo\u001b[39;00m\n\u001b[32m      2\u001b[39m overlay = generar_overlay_ice(slider.value)\n\u001b[32m----> \u001b[39m\u001b[32m3\u001b[39m \u001b[43mnew_map\u001b[49m.add_layer(overlay)\n",
      "\u001b[31mNameError\u001b[39m: name 'new_map' is not defined"
     ]
    }
   ],
   "source": [
    "# Añadir overlay de hielo\n",
    "overlay = generar_overlay_ice(slider.value)\n",
    "new_map.add_layer(overlay)\n"
   ]
  },
  {
   "cell_type": "code",
   "execution_count": null,
   "id": "aba5c2ee",
   "metadata": {},
   "outputs": [
    {
     "data": {
      "application/vnd.jupyter.widget-view+json": {
       "model_id": "50d6106624d2462793dd3a04b8465f56",
       "version_major": 2,
       "version_minor": 0
      },
      "text/plain": [
       "IntSlider(value=1985, description='Año:', max=2020, min=1985, step=5, style=SliderStyle(description_width='60p…"
      ]
     },
     "metadata": {},
     "output_type": "display_data"
    },
    {
     "data": {
      "application/vnd.jupyter.widget-view+json": {
       "model_id": "ff229e34b68746cf830130819ae72414",
       "version_major": 2,
       "version_minor": 0
      },
      "text/plain": [
       "Map(center=[75, -95], controls=(ZoomControl(options=['position', 'zoom_in_text', 'zoom_in_title', 'zoom_out_te…"
      ]
     },
     "metadata": {},
     "output_type": "display_data"
    }
   ],
   "source": [
    "import ipywidgets as widgets\n",
    "from ipyleaflet import Map, LayersControl\n",
    "from IPython.display import display\n",
    "\n",
    "# Lista de años quinquenales disponibles\n",
    "años = list(range(1985, 2025, 5))  # 1985, 1985, ..., 2020\n",
    "\n",
    "# Crear slider\n",
    "slider = widgets.IntSlider(\n",
    "    value=años[0],\n",
    "    options=años,\n",
    "    min=min(años),\n",
    "    max=max(años),\n",
    "    step=5,\n",
    "    description=\"Año:\",\n",
    "    style={\"description_width\": \"60px\"}\n",
    ")\n",
    "\n",
    "# Crear mapa base\n",
    "m = Map(center=(75, -95), zoom=3)\n",
    "m.add_control(LayersControl(position=\"topright\"))\n",
    "\n",
    "# Contenedor de overlay actual\n",
    "overlay_actual = [None]\n",
    "\n",
    "# Función que actualiza el mapa con el overlay correspondiente\n",
    "def on_slider_change(change):\n",
    "    year = change[\"new\"]\n",
    "\n",
    "    # Eliminar overlay anterior si existe\n",
    "    if overlay_actual[0]:\n",
    "        m.remove_layer(overlay_actual[0])\n",
    "\n",
    "    # Generar nuevo overlay dinámico\n",
    "    overlay_nuevo = generar_overlay_ice(year)\n",
    "    if overlay_nuevo:\n",
    "        m.add_layer(overlay_nuevo)\n",
    "        overlay_actual[0] = overlay_nuevo\n",
    "    else:\n",
    "        print(f\"No se pudo generar overlay para {year}\")\n",
    "\n",
    "# Vincular cambio de slider\n",
    "slider.observe(on_slider_change, names=\"value\")\n",
    "\n",
    "from ipyleaflet import GeoJSON\n",
    "import json\n",
    "import requests\n",
    "\n",
    "# Capa de países para orientación\n",
    "url_geojson = \"https://raw.githubusercontent.com/johan/world.geo.json/master/countries.geo.json\"\n",
    "data_geojson = requests.get(url_geojson).json()\n",
    "\n",
    "# Añadir capa al mapa\n",
    "capa_paises = GeoJSON(data=data_geojson, style={'color': 'gray', 'fillOpacity': 0})\n",
    "m.add_layer(capa_paises)\n",
    "\n",
    "\n",
    "# Mostrar todo\n",
    "display(slider, m)\n",
    "on_slider_change({\"new\": slider.value})  # inicializar con primer año\n"
   ]
  },
  {
   "cell_type": "markdown",
   "id": "e9b375f1",
   "metadata": {},
   "source": [
    "### Female Polar Bear Average location"
   ]
  },
  {
   "cell_type": "code",
   "execution_count": null,
   "id": "5fd033c5",
   "metadata": {},
   "outputs": [
    {
     "data": {
      "text/html": [
       "<div>\n",
       "<style scoped>\n",
       "    .dataframe tbody tr th:only-of-type {\n",
       "        vertical-align: middle;\n",
       "    }\n",
       "\n",
       "    .dataframe tbody tr th {\n",
       "        vertical-align: top;\n",
       "    }\n",
       "\n",
       "    .dataframe thead th {\n",
       "        text-align: right;\n",
       "    }\n",
       "</style>\n",
       "<table border=\"1\" class=\"dataframe\">\n",
       "  <thead>\n",
       "    <tr style=\"text-align: right;\">\n",
       "      <th></th>\n",
       "      <th>UniqueAnimalID</th>\n",
       "      <th>AvgLatitude</th>\n",
       "      <th>AvgLongitude</th>\n",
       "      <th>TotalDistance</th>\n",
       "    </tr>\n",
       "    <tr>\n",
       "      <th>Cluster</th>\n",
       "      <th></th>\n",
       "      <th></th>\n",
       "      <th></th>\n",
       "      <th></th>\n",
       "    </tr>\n",
       "  </thead>\n",
       "  <tbody>\n",
       "    <tr>\n",
       "      <th>0</th>\n",
       "      <td>117</td>\n",
       "      <td>72.578078</td>\n",
       "      <td>-107.664005</td>\n",
       "      <td>3903.999562</td>\n",
       "    </tr>\n",
       "    <tr>\n",
       "      <th>1</th>\n",
       "      <td>14</td>\n",
       "      <td>73.311830</td>\n",
       "      <td>-133.003347</td>\n",
       "      <td>12065.587595</td>\n",
       "    </tr>\n",
       "    <tr>\n",
       "      <th>2</th>\n",
       "      <td>223</td>\n",
       "      <td>72.001851</td>\n",
       "      <td>-97.927361</td>\n",
       "      <td>1861.995919</td>\n",
       "    </tr>\n",
       "    <tr>\n",
       "      <th>3</th>\n",
       "      <td>1</td>\n",
       "      <td>71.995771</td>\n",
       "      <td>-143.345428</td>\n",
       "      <td>26299.811749</td>\n",
       "    </tr>\n",
       "    <tr>\n",
       "      <th>4</th>\n",
       "      <td>51</td>\n",
       "      <td>72.682897</td>\n",
       "      <td>-136.793189</td>\n",
       "      <td>7130.504398</td>\n",
       "    </tr>\n",
       "  </tbody>\n",
       "</table>\n",
       "</div>"
      ],
      "text/plain": [
       "         UniqueAnimalID  AvgLatitude  AvgLongitude  TotalDistance\n",
       "Cluster                                                          \n",
       "0                   117    72.578078   -107.664005    3903.999562\n",
       "1                    14    73.311830   -133.003347   12065.587595\n",
       "2                   223    72.001851    -97.927361    1861.995919\n",
       "3                     1    71.995771   -143.345428   26299.811749\n",
       "4                    51    72.682897   -136.793189    7130.504398"
      ]
     },
     "execution_count": 205,
     "metadata": {},
     "output_type": "execute_result"
    }
   ],
   "source": [
    "cluster_summary"
   ]
  },
  {
   "cell_type": "code",
   "execution_count": null,
   "id": "dd73fbe9",
   "metadata": {},
   "outputs": [],
   "source": [
    "import matplotlib.pyplot as plt\n",
    "import matplotlib as mpl\n",
    "import io\n",
    "import base64\n",
    "import ipywidgets as widgets\n",
    "from ipyleaflet import WidgetControl\n",
    "\n",
    "def crear_leyenda_magma(min_val, max_val):\n",
    "    # Crear figura horizontal\n",
    "    fig, ax = plt.subplots(figsize=(4, 0.4))\n",
    "    cmap = plt.get_cmap(\"magma\")\n",
    "    norm = mpl.colors.Normalize(vmin=min_val, vmax=max_val)\n",
    "    cb = mpl.colorbar.ColorbarBase(ax, cmap=cmap, norm=norm, orientation='horizontal')\n",
    "\n",
    "    ax.set_title('Cluster ID', fontsize=10)\n",
    "    cb.set_ticks(range(min_val, max_val + 1))\n",
    "    cb.ax.tick_params(labelsize=8)\n",
    "\n",
    "    # Guardar como imagen base64\n",
    "    buffer = io.BytesIO()\n",
    "    plt.savefig(buffer, format='png', bbox_inches='tight', dpi=100)\n",
    "    plt.close(fig)\n",
    "    img_b64 = base64.b64encode(buffer.getvalue()).decode('utf-8')\n",
    "    return img_b64\n"
   ]
  },
  {
   "cell_type": "code",
   "execution_count": null,
   "id": "b6e125e8",
   "metadata": {},
   "outputs": [],
   "source": [
    "from ipyleaflet import Map, CircleMarker, LayerGroup, WidgetControl\n",
    "import matplotlib.cm as cm\n",
    "import matplotlib.colors as mcolors\n",
    "import ipywidgets as widgets\n",
    "import numpy as np\n",
    "\n",
    "def mostrar_ositas_cluster(cluster_summary):\n",
    "    m = Map(\n",
    "        center=(83, -40),\n",
    "        zoom=1.3,\n",
    "        scroll_wheel_zoom=True,\n",
    "        dragging=True,\n",
    "        zoom_control=False,\n",
    "        world_copy_jump=True\n",
    "    )\n",
    "\n",
    "    # Asegurar columnas en minúsculas\n",
    "    cluster_summary.columns = cluster_summary.columns.str.lower()\n",
    "    cluster_summary = cluster_summary.reset_index()  # asegurar que 'cluster' sea columna\n",
    "\n",
    "    # Elegimos un colormap más alegre \n",
    "    cmap = cm.get_cmap(\"magma\", len(cluster_summary))\n",
    "    norm = mcolors.Normalize(vmin=0, vmax=len(cluster_summary) - 1)\n",
    "\n",
    "    # Escalado del radio en función de uniqueanimalid\n",
    "    min_count = cluster_summary[\"uniqueanimalid\"].min()\n",
    "    max_count = cluster_summary[\"uniqueanimalid\"].max()\n",
    "\n",
    "    # Crear marcadores con colores y tamaños por cluster\n",
    "    marcadores = []\n",
    "    leyenda_items = []\n",
    "\n",
    "    for i, row in cluster_summary.iterrows():\n",
    "        cluster_id = row[\"cluster\"]\n",
    "        lat = row[\"avglatitude\"]\n",
    "        lon = row[\"avglongitude\"]\n",
    "        count = row[\"uniqueanimalid\"]\n",
    "\n",
    "        color = mcolors.to_hex(cmap(norm(i)))\n",
    "        radius = np.interp(count, (min_count, max_count), (1, 8))\n",
    "\n",
    "        marcador = CircleMarker(\n",
    "            location=(lat, lon),\n",
    "            radius=int(radius),\n",
    "            color=color,\n",
    "            fill_color=color,\n",
    "            fill_opacity=0.75\n",
    "        )\n",
    "        marcadores.append(marcador)\n",
    "\n",
    "        leyenda_items.append(\n",
    "            f\"<div style='color:{color}; font-size:14px; line-height:1.4;'><b>■</b>🐾 Cluster {cluster_id} ({count} osas)</div>\"\n",
    "        )\n",
    "\n",
    "    # Añadir capa al mapa\n",
    "    m.add_layer(LayerGroup(layers=marcadores))\n",
    "\n",
    "    # Crear leyenda con HTML estilizado\n",
    "    # leyenda_html = widgets.HTML(\n",
    "    #     \"<div style='padding: 8px; background-color: white; border:1px solid #ccc;'>\"\n",
    "    #     \"<b>🐾 Clusters de osas polares:</b><br>\" + \"<br>\".join(leyenda_items) + \"</div>\"\n",
    "    # )\n",
    "    # leyenda = WidgetControl(widget=leyenda_html, position=\"bottomright\")\n",
    "    # m.add_control(leyenda)\n",
    "\n",
    "    # Rango de cluster IDs\n",
    "    min_cluster = int(cluster_summary[\"cluster\"].min())\n",
    "    max_cluster = int(cluster_summary[\"cluster\"].max())\n",
    "\n",
    "    # Crear imagen de leyenda\n",
    "    img_b64 = crear_leyenda_magma(min_cluster, max_cluster)\n",
    "    leyenda_img = widgets.HTML(\n",
    "        value=f\"<img src='data:image/png;base64,{img_b64}' style='width:250px;'>\"\n",
    "    )\n",
    "    leyenda_widget = WidgetControl(widget=leyenda_img, position='bottomright')\n",
    "    m.add_control(leyenda_widget)\n",
    "\n",
    "\n",
    "    return m\n"
   ]
  },
  {
   "cell_type": "code",
   "execution_count": null,
   "id": "4877a6f7",
   "metadata": {},
   "outputs": [],
   "source": [
    "# from ipyleaflet import Map, CircleMarker, LayerGroup\n",
    "# import matplotlib.cm as cm\n",
    "# import matplotlib.colors as mcolors\n",
    "\n",
    "# def mostrar_ositas_cluster(df):\n",
    "#     # Usamos un centro más alto y vista extendida del Ártico\n",
    "#     m = Map(center=(83, -60), zoom=2.5, scroll_wheel_zoom=True)\n",
    "\n",
    "#     # Asegurar nombres de columnas en minúsculas\n",
    "#     df.columns = df.columns.str.lower()\n",
    "\n",
    "#     # Preparar colormap viridis\n",
    "#     cluster_ids = df[\"cluster\"].unique()\n",
    "#     n_clusters = len(cluster_ids)\n",
    "#     cmap = cm.get_cmap(\"viridis\", n_clusters)\n",
    "#     norm = mcolors.Normalize(vmin=0, vmax=n_clusters - 1)\n",
    "#     colores = {\n",
    "#         cid: mcolors.to_hex(cmap(norm(i))) for i, cid in enumerate(cluster_ids)\n",
    "#     }\n",
    "\n",
    "#     marcadores = []\n",
    "#     for _, row in df.iterrows():\n",
    "#         color = colores[row[\"cluster\"]]\n",
    "#         marcador = CircleMarker(\n",
    "#             location=(row[\"avglatitude\"], row[\"avglongitude\"]),\n",
    "#             radius=5,\n",
    "#             color=color,\n",
    "#             fill_color=color,\n",
    "#             fill_opacity=0.8\n",
    "#         )\n",
    "#         marcadores.append(marcador)\n",
    "\n",
    "#     m.add_layer(LayerGroup(layers=marcadores))\n",
    "#     return m\n"
   ]
  },
  {
   "cell_type": "code",
   "execution_count": null,
   "id": "551042df",
   "metadata": {},
   "outputs": [
    {
     "data": {
      "text/html": [
       "<div>\n",
       "<style scoped>\n",
       "    .dataframe tbody tr th:only-of-type {\n",
       "        vertical-align: middle;\n",
       "    }\n",
       "\n",
       "    .dataframe tbody tr th {\n",
       "        vertical-align: top;\n",
       "    }\n",
       "\n",
       "    .dataframe thead th {\n",
       "        text-align: right;\n",
       "    }\n",
       "</style>\n",
       "<table border=\"1\" class=\"dataframe\">\n",
       "  <thead>\n",
       "    <tr style=\"text-align: right;\">\n",
       "      <th></th>\n",
       "      <th>uniqueanimalid</th>\n",
       "      <th>avglatitude</th>\n",
       "      <th>avglongitude</th>\n",
       "      <th>totaldistance</th>\n",
       "      <th>cluster</th>\n",
       "    </tr>\n",
       "  </thead>\n",
       "  <tbody>\n",
       "    <tr>\n",
       "      <th>0</th>\n",
       "      <td>1</td>\n",
       "      <td>70.253606</td>\n",
       "      <td>-143.775609</td>\n",
       "      <td>1255.087194</td>\n",
       "      <td>2</td>\n",
       "    </tr>\n",
       "    <tr>\n",
       "      <th>1</th>\n",
       "      <td>3</td>\n",
       "      <td>72.124187</td>\n",
       "      <td>-143.758874</td>\n",
       "      <td>2694.620502</td>\n",
       "      <td>2</td>\n",
       "    </tr>\n",
       "    <tr>\n",
       "      <th>2</th>\n",
       "      <td>4</td>\n",
       "      <td>71.306492</td>\n",
       "      <td>-145.272690</td>\n",
       "      <td>4294.946165</td>\n",
       "      <td>0</td>\n",
       "    </tr>\n",
       "    <tr>\n",
       "      <th>3</th>\n",
       "      <td>5</td>\n",
       "      <td>70.229404</td>\n",
       "      <td>-143.898422</td>\n",
       "      <td>12597.408190</td>\n",
       "      <td>1</td>\n",
       "    </tr>\n",
       "    <tr>\n",
       "      <th>4</th>\n",
       "      <td>10</td>\n",
       "      <td>73.298487</td>\n",
       "      <td>-148.668127</td>\n",
       "      <td>5445.447921</td>\n",
       "      <td>0</td>\n",
       "    </tr>\n",
       "  </tbody>\n",
       "</table>\n",
       "</div>"
      ],
      "text/plain": [
       "   uniqueanimalid  avglatitude  avglongitude  totaldistance  cluster\n",
       "0               1    70.253606   -143.775609    1255.087194        2\n",
       "1               3    72.124187   -143.758874    2694.620502        2\n",
       "2               4    71.306492   -145.272690    4294.946165        0\n",
       "3               5    70.229404   -143.898422   12597.408190        1\n",
       "4              10    73.298487   -148.668127    5445.447921        0"
      ]
     },
     "execution_count": 229,
     "metadata": {},
     "output_type": "execute_result"
    }
   ],
   "source": [
    "df_cluster.head()"
   ]
  },
  {
   "cell_type": "code",
   "execution_count": null,
   "id": "29f82d73",
   "metadata": {},
   "outputs": [
    {
     "data": {
      "application/vnd.jupyter.widget-view+json": {
       "model_id": "b3dac1ca610f4196b0a1f55b8fb8ecb6",
       "version_major": 2,
       "version_minor": 0
      },
      "text/plain": [
       "Map(center=[83, -40], controls=(AttributionControl(options=['position', 'prefix'], position='bottomright'), Wi…"
      ]
     },
     "execution_count": 232,
     "metadata": {},
     "output_type": "execute_result"
    }
   ],
   "source": [
    "mostrar_ositas_cluster(df_cluster)"
   ]
  },
  {
   "cell_type": "code",
   "execution_count": 143,
   "id": "d88c0d4a",
   "metadata": {},
   "outputs": [
    {
     "data": {
      "text/plain": [
       "Index(['UniqueAnimalID', 'Year', 'AvgLatitude', 'AvgLongitude',\n",
       "       'TotalDistance'],\n",
       "      dtype='object')"
      ]
     },
     "execution_count": 143,
     "metadata": {},
     "output_type": "execute_result"
    }
   ],
   "source": [
    "new_df.columns"
   ]
  },
  {
   "cell_type": "markdown",
   "id": "ed46511b",
   "metadata": {},
   "source": [
    "## k 2 5 vs 8"
   ]
  },
  {
   "cell_type": "code",
   "execution_count": 52,
   "id": "ad63ffbe",
   "metadata": {},
   "outputs": [],
   "source": [
    "from sklearn.cluster import KMeans\n",
    "from sklearn.preprocessing import StandardScaler\n",
    "from sklearn.metrics import silhouette_score\n",
    "\n",
    "from ipyleaflet import Map, CircleMarker, LayerGroup\n",
    "from ipywidgets import VBox, Label\n",
    "import matplotlib.cm as cm\n",
    "import matplotlib.colors as mcolors\n",
    "import numpy as np\n",
    "\n",
    "def mapa_clusters_con_centroides(df, cluster_summary, k=5, cmap=\"magma\"):\n",
    "    df = df.copy()\n",
    "    df.columns = df.columns.str.lower()\n",
    "    cluster_summary.columns = cluster_summary.columns.str.lower()\n",
    "\n",
    "    # Normalizar variables\n",
    "    X = df[[\"avglatitude\", \"avglongitude\", \"totaldistance\"]]\n",
    "    X_scaled = StandardScaler().fit_transform(X)\n",
    "\n",
    "    # Clustering\n",
    "    modelo = KMeans(n_clusters=k, random_state=42, n_init='auto')\n",
    "    df[\"cluster\"] = modelo.fit_predict(X_scaled)\n",
    "    sil = silhouette_score(X_scaled, df[\"cluster\"])\n",
    "\n",
    "    # Mapa base\n",
    "    m = Map(center=(83, -40), zoom=1.3, scroll_wheel_zoom=True,\n",
    "            dragging=True, world_copy_jump=True, zoom_control=False)\n",
    "\n",
    "    # Colores\n",
    "    cluster_ids = sorted(df[\"cluster\"].unique())\n",
    "    cmap_k = cm.get_cmap(cmap, len(cluster_ids))\n",
    "    norm = mcolors.Normalize(vmin=0, vmax=len(cluster_ids) - 1)\n",
    "    colores = {cid: mcolors.to_hex(cmap_k(norm(i))) for i, cid in enumerate(cluster_ids)}\n",
    "\n",
    "    # Marcadores por osa\n",
    "    marcadores = []\n",
    "    for _, row in df.iterrows():\n",
    "        color = colores[row[\"cluster\"]]\n",
    "        marcador = CircleMarker(\n",
    "            location=(row[\"avglatitude\"], row[\"avglongitude\"]),\n",
    "            radius=5,\n",
    "            color=color,\n",
    "            fill_color=color,\n",
    "            fill_opacity=0.75\n",
    "        )\n",
    "        marcadores.append(marcador)\n",
    "    m.add_layer(LayerGroup(layers=marcadores))\n",
    "    \n",
    "    # Centroides\n",
    "    for _, row in cluster_summary.iterrows():\n",
    "        marcador_centroide = CircleMarker(\n",
    "            location=(row[\"avglatitude\"], row[\"avglongitude\"]),\n",
    "            radius=9,\n",
    "            color=\"red\",\n",
    "            fill_color=\"white\",\n",
    "            fill_opacity=1.0\n",
    "        )\n",
    "        m.add_layer(marcador_centroide)\n",
    "\n",
    "    # Título\n",
    "    titulo = f\"Clustering k = {k}  (Silhouette = {sil:.2f})\"\n",
    "    return VBox([Label(titulo), m])"
   ]
  },
  {
   "cell_type": "code",
   "execution_count": 53,
   "id": "aea42a2f",
   "metadata": {},
   "outputs": [
    {
     "data": {
      "application/vnd.jupyter.widget-view+json": {
       "model_id": "47135778332c437a88ab96f6e1bc4108",
       "version_major": 2,
       "version_minor": 0
      },
      "text/plain": [
       "VBox(children=(Label(value='Clustering k = 5  (Silhouette = 0.31)'), Map(center=[83, -40], controls=(Attributi…"
      ]
     },
     "metadata": {},
     "output_type": "display_data"
    }
   ],
   "source": [
    "mapa = mapa_clusters_con_centroides(new_df, cluster_summary, k=5)\n",
    "display(mapa)\n"
   ]
  },
  {
   "cell_type": "code",
   "execution_count": 49,
   "id": "ff6d4abd",
   "metadata": {},
   "outputs": [
    {
     "data": {
      "text/html": [
       "<div>\n",
       "<style scoped>\n",
       "    .dataframe tbody tr th:only-of-type {\n",
       "        vertical-align: middle;\n",
       "    }\n",
       "\n",
       "    .dataframe tbody tr th {\n",
       "        vertical-align: top;\n",
       "    }\n",
       "\n",
       "    .dataframe thead th {\n",
       "        text-align: right;\n",
       "    }\n",
       "</style>\n",
       "<table border=\"1\" class=\"dataframe\">\n",
       "  <thead>\n",
       "    <tr style=\"text-align: right;\">\n",
       "      <th></th>\n",
       "      <th>UniqueAnimalID</th>\n",
       "      <th>Year</th>\n",
       "      <th>AvgLatitude</th>\n",
       "      <th>AvgLongitude</th>\n",
       "      <th>TotalDistance</th>\n",
       "    </tr>\n",
       "  </thead>\n",
       "  <tbody>\n",
       "    <tr>\n",
       "      <th>0</th>\n",
       "      <td>1</td>\n",
       "      <td>1986</td>\n",
       "      <td>70.253606</td>\n",
       "      <td>-143.775609</td>\n",
       "      <td>1260.018349</td>\n",
       "    </tr>\n",
       "    <tr>\n",
       "      <th>1</th>\n",
       "      <td>3</td>\n",
       "      <td>1985</td>\n",
       "      <td>71.681196</td>\n",
       "      <td>-144.766673</td>\n",
       "      <td>1436.456665</td>\n",
       "    </tr>\n",
       "    <tr>\n",
       "      <th>2</th>\n",
       "      <td>3</td>\n",
       "      <td>1986</td>\n",
       "      <td>72.559482</td>\n",
       "      <td>-142.768586</td>\n",
       "      <td>1268.719461</td>\n",
       "    </tr>\n",
       "    <tr>\n",
       "      <th>3</th>\n",
       "      <td>4</td>\n",
       "      <td>1988</td>\n",
       "      <td>70.639825</td>\n",
       "      <td>-139.355941</td>\n",
       "      <td>1967.025357</td>\n",
       "    </tr>\n",
       "    <tr>\n",
       "      <th>4</th>\n",
       "      <td>4</td>\n",
       "      <td>1990</td>\n",
       "      <td>71.981988</td>\n",
       "      <td>-151.267807</td>\n",
       "      <td>2344.365401</td>\n",
       "    </tr>\n",
       "    <tr>\n",
       "      <th>...</th>\n",
       "      <td>...</td>\n",
       "      <td>...</td>\n",
       "      <td>...</td>\n",
       "      <td>...</td>\n",
       "      <td>...</td>\n",
       "    </tr>\n",
       "    <tr>\n",
       "      <th>607</th>\n",
       "      <td>537</td>\n",
       "      <td>2008</td>\n",
       "      <td>70.224561</td>\n",
       "      <td>-141.914127</td>\n",
       "      <td>1340.958449</td>\n",
       "    </tr>\n",
       "    <tr>\n",
       "      <th>608</th>\n",
       "      <td>539</td>\n",
       "      <td>2009</td>\n",
       "      <td>73.351601</td>\n",
       "      <td>-141.061006</td>\n",
       "      <td>2322.372371</td>\n",
       "    </tr>\n",
       "    <tr>\n",
       "      <th>609</th>\n",
       "      <td>540</td>\n",
       "      <td>2009</td>\n",
       "      <td>70.225662</td>\n",
       "      <td>-144.872988</td>\n",
       "      <td>1260.193080</td>\n",
       "    </tr>\n",
       "    <tr>\n",
       "      <th>610</th>\n",
       "      <td>541</td>\n",
       "      <td>2006</td>\n",
       "      <td>73.918563</td>\n",
       "      <td>-154.491837</td>\n",
       "      <td>2517.827147</td>\n",
       "    </tr>\n",
       "    <tr>\n",
       "      <th>611</th>\n",
       "      <td>541</td>\n",
       "      <td>2007</td>\n",
       "      <td>75.631525</td>\n",
       "      <td>-147.629541</td>\n",
       "      <td>2362.920239</td>\n",
       "    </tr>\n",
       "  </tbody>\n",
       "</table>\n",
       "<p>612 rows × 5 columns</p>\n",
       "</div>"
      ],
      "text/plain": [
       "     UniqueAnimalID  Year  AvgLatitude  AvgLongitude  TotalDistance\n",
       "0                 1  1986    70.253606   -143.775609    1260.018349\n",
       "1                 3  1985    71.681196   -144.766673    1436.456665\n",
       "2                 3  1986    72.559482   -142.768586    1268.719461\n",
       "3                 4  1988    70.639825   -139.355941    1967.025357\n",
       "4                 4  1990    71.981988   -151.267807    2344.365401\n",
       "..              ...   ...          ...           ...            ...\n",
       "607             537  2008    70.224561   -141.914127    1340.958449\n",
       "608             539  2009    73.351601   -141.061006    2322.372371\n",
       "609             540  2009    70.225662   -144.872988    1260.193080\n",
       "610             541  2006    73.918563   -154.491837    2517.827147\n",
       "611             541  2007    75.631525   -147.629541    2362.920239\n",
       "\n",
       "[612 rows x 5 columns]"
      ]
     },
     "execution_count": 49,
     "metadata": {},
     "output_type": "execute_result"
    }
   ],
   "source": [
    "new_df"
   ]
  },
  {
   "cell_type": "code",
   "execution_count": 55,
   "id": "3b91f05f",
   "metadata": {},
   "outputs": [
    {
     "data": {
      "text/html": [
       "<div>\n",
       "<style scoped>\n",
       "    .dataframe tbody tr th:only-of-type {\n",
       "        vertical-align: middle;\n",
       "    }\n",
       "\n",
       "    .dataframe tbody tr th {\n",
       "        vertical-align: top;\n",
       "    }\n",
       "\n",
       "    .dataframe thead th {\n",
       "        text-align: right;\n",
       "    }\n",
       "</style>\n",
       "<table border=\"1\" class=\"dataframe\">\n",
       "  <thead>\n",
       "    <tr style=\"text-align: right;\">\n",
       "      <th></th>\n",
       "      <th>uniqueanimalid</th>\n",
       "      <th>avglatitude</th>\n",
       "      <th>avglongitude</th>\n",
       "      <th>totaldistance</th>\n",
       "    </tr>\n",
       "    <tr>\n",
       "      <th>Cluster</th>\n",
       "      <th></th>\n",
       "      <th></th>\n",
       "      <th></th>\n",
       "      <th></th>\n",
       "    </tr>\n",
       "  </thead>\n",
       "  <tbody>\n",
       "    <tr>\n",
       "      <th>0</th>\n",
       "      <td>117</td>\n",
       "      <td>72.578078</td>\n",
       "      <td>-107.664005</td>\n",
       "      <td>3903.999562</td>\n",
       "    </tr>\n",
       "    <tr>\n",
       "      <th>1</th>\n",
       "      <td>223</td>\n",
       "      <td>72.001851</td>\n",
       "      <td>-97.927361</td>\n",
       "      <td>1861.995919</td>\n",
       "    </tr>\n",
       "    <tr>\n",
       "      <th>2</th>\n",
       "      <td>52</td>\n",
       "      <td>72.668226</td>\n",
       "      <td>-137.353071</td>\n",
       "      <td>7179.767738</td>\n",
       "    </tr>\n",
       "    <tr>\n",
       "      <th>3</th>\n",
       "      <td>1</td>\n",
       "      <td>71.995771</td>\n",
       "      <td>-143.345428</td>\n",
       "      <td>26299.811749</td>\n",
       "    </tr>\n",
       "    <tr>\n",
       "      <th>4</th>\n",
       "      <td>13</td>\n",
       "      <td>73.418891</td>\n",
       "      <td>-130.472294</td>\n",
       "      <td>12248.156017</td>\n",
       "    </tr>\n",
       "  </tbody>\n",
       "</table>\n",
       "</div>"
      ],
      "text/plain": [
       "         uniqueanimalid  avglatitude  avglongitude  totaldistance\n",
       "Cluster                                                          \n",
       "0                   117    72.578078   -107.664005    3903.999562\n",
       "1                   223    72.001851    -97.927361    1861.995919\n",
       "2                    52    72.668226   -137.353071    7179.767738\n",
       "3                     1    71.995771   -143.345428   26299.811749\n",
       "4                    13    73.418891   -130.472294   12248.156017"
      ]
     },
     "execution_count": 55,
     "metadata": {},
     "output_type": "execute_result"
    }
   ],
   "source": [
    "cluster_summary"
   ]
  },
  {
   "cell_type": "code",
   "execution_count": 56,
   "id": "98bd07a2",
   "metadata": {},
   "outputs": [
    {
     "data": {
      "image/png": "[encoded data removed]",
      "text/plain": [
       "<Figure size 1500x400 with 3 Axes>"
      ]
     },
     "metadata": {},
     "output_type": "display_data"
    }
   ],
   "source": [
    "import matplotlib.pyplot as plt\n",
    "import seaborn as sns\n",
    "\n",
    "# Asegura nombres en minúsculas\n",
    "cluster_summary_plot = cluster_summary.copy()\n",
    "cluster_summary_plot.columns = cluster_summary_plot.columns.str.lower()\n",
    "cluster_summary_plot = cluster_summary_plot.reset_index()\n",
    "\n",
    "# Ordenar por TotalDistance si lo deseas\n",
    "cluster_summary_plot = cluster_summary_plot.sort_values(\"totaldistance\", ascending=False)\n",
    "\n",
    "# Estilo de Seaborn\n",
    "sns.set(style=\"whitegrid\", palette=\"magma\")\n",
    "\n",
    "fig, axes = plt.subplots(1, 3, figsize=(15, 4))\n",
    "\n",
    "# 1. Número de osas\n",
    "sns.barplot(data=cluster_summary_plot, x=\"Cluster\", y=\"uniqueanimalid\", ax=axes[0])\n",
    "axes[0].set_title(\"N° de osas por cluster\")\n",
    "axes[0].set_ylabel(\"Osas únicas\")\n",
    "\n",
    "# 2. Distancia media recorrida\n",
    "sns.barplot(data=cluster_summary_plot, x=\"Cluster\", y=\"totaldistance\", ax=axes[1])\n",
    "axes[1].set_title(\"Distancia media recorrida (km)\")\n",
    "axes[1].set_ylabel(\"Km\")\n",
    "\n",
    "# 3. Latitud media\n",
    "sns.barplot(data=cluster_summary_plot, x=\"Cluster\", y=\"avglatitude\", ax=axes[2])\n",
    "axes[2].set_title(\"Latitud promedio\")\n",
    "axes[2].set_ylabel(\"Grados\")\n",
    "\n",
    "# Ajustes finales\n",
    "for ax in axes:\n",
    "    ax.set_xlabel(\"Cluster\")\n",
    "\n",
    "plt.tight_layout()\n",
    "plt.suptitle(\"Perfil comparativo de clusters de osas polares\", fontsize=16, y=1.05)\n",
    "plt.show()\n"
   ]
  },
  {
   "cell_type": "code",
   "execution_count": 57,
   "id": "db50c144",
   "metadata": {},
   "outputs": [
    {
     "data": {
      "text/plain": [
       "<Axes: xlabel='TotalDistance', ylabel='Count'>"
      ]
     },
     "execution_count": 57,
     "metadata": {},
     "output_type": "execute_result"
    },
    {
     "data": {
      "image/png": "[encoded data removed]",
      "text/plain": [
       "<Figure size 640x480 with 1 Axes>"
      ]
     },
     "metadata": {},
     "output_type": "display_data"
    }
   ],
   "source": [
    "sns.histplot(new_df.TotalDistance)"
   ]
  },
  {
   "cell_type": "code",
   "execution_count": 58,
   "id": "e7c11e40",
   "metadata": {},
   "outputs": [
    {
     "data": {
      "text/html": [
       "<div>\n",
       "<style scoped>\n",
       "    .dataframe tbody tr th:only-of-type {\n",
       "        vertical-align: middle;\n",
       "    }\n",
       "\n",
       "    .dataframe tbody tr th {\n",
       "        vertical-align: top;\n",
       "    }\n",
       "\n",
       "    .dataframe thead th {\n",
       "        text-align: right;\n",
       "    }\n",
       "</style>\n",
       "<table border=\"1\" class=\"dataframe\">\n",
       "  <thead>\n",
       "    <tr style=\"text-align: right;\">\n",
       "      <th></th>\n",
       "      <th>UniqueAnimalID</th>\n",
       "      <th>Year</th>\n",
       "      <th>AvgLatitude</th>\n",
       "      <th>AvgLongitude</th>\n",
       "      <th>TotalDistance</th>\n",
       "    </tr>\n",
       "  </thead>\n",
       "  <tbody>\n",
       "    <tr>\n",
       "      <th>519</th>\n",
       "      <td>440</td>\n",
       "      <td>2012</td>\n",
       "      <td>74.695497</td>\n",
       "      <td>-138.285557</td>\n",
       "      <td>5045.724956</td>\n",
       "    </tr>\n",
       "    <tr>\n",
       "      <th>445</th>\n",
       "      <td>370</td>\n",
       "      <td>2011</td>\n",
       "      <td>77.189283</td>\n",
       "      <td>-17.761438</td>\n",
       "      <td>4735.692104</td>\n",
       "    </tr>\n",
       "    <tr>\n",
       "      <th>529</th>\n",
       "      <td>451</td>\n",
       "      <td>2014</td>\n",
       "      <td>72.365937</td>\n",
       "      <td>-146.484660</td>\n",
       "      <td>4509.030580</td>\n",
       "    </tr>\n",
       "    <tr>\n",
       "      <th>526</th>\n",
       "      <td>447</td>\n",
       "      <td>2013</td>\n",
       "      <td>73.533605</td>\n",
       "      <td>-152.678465</td>\n",
       "      <td>4497.533096</td>\n",
       "    </tr>\n",
       "    <tr>\n",
       "      <th>311</th>\n",
       "      <td>292</td>\n",
       "      <td>1999</td>\n",
       "      <td>73.694915</td>\n",
       "      <td>-150.586254</td>\n",
       "      <td>4481.300636</td>\n",
       "    </tr>\n",
       "    <tr>\n",
       "      <th>594</th>\n",
       "      <td>529</td>\n",
       "      <td>2013</td>\n",
       "      <td>71.185412</td>\n",
       "      <td>-141.694451</td>\n",
       "      <td>4476.154035</td>\n",
       "    </tr>\n",
       "    <tr>\n",
       "      <th>468</th>\n",
       "      <td>388</td>\n",
       "      <td>2009</td>\n",
       "      <td>72.600346</td>\n",
       "      <td>-153.054334</td>\n",
       "      <td>4463.659057</td>\n",
       "    </tr>\n",
       "    <tr>\n",
       "      <th>524</th>\n",
       "      <td>444</td>\n",
       "      <td>2014</td>\n",
       "      <td>73.113470</td>\n",
       "      <td>-155.780934</td>\n",
       "      <td>4438.528744</td>\n",
       "    </tr>\n",
       "    <tr>\n",
       "      <th>428</th>\n",
       "      <td>360</td>\n",
       "      <td>2007</td>\n",
       "      <td>73.445754</td>\n",
       "      <td>-135.796013</td>\n",
       "      <td>4438.400995</td>\n",
       "    </tr>\n",
       "    <tr>\n",
       "      <th>331</th>\n",
       "      <td>300</td>\n",
       "      <td>2008</td>\n",
       "      <td>75.357527</td>\n",
       "      <td>-151.414796</td>\n",
       "      <td>4403.301635</td>\n",
       "    </tr>\n",
       "  </tbody>\n",
       "</table>\n",
       "</div>"
      ],
      "text/plain": [
       "     UniqueAnimalID  Year  AvgLatitude  AvgLongitude  TotalDistance\n",
       "519             440  2012    74.695497   -138.285557    5045.724956\n",
       "445             370  2011    77.189283    -17.761438    4735.692104\n",
       "529             451  2014    72.365937   -146.484660    4509.030580\n",
       "526             447  2013    73.533605   -152.678465    4497.533096\n",
       "311             292  1999    73.694915   -150.586254    4481.300636\n",
       "594             529  2013    71.185412   -141.694451    4476.154035\n",
       "468             388  2009    72.600346   -153.054334    4463.659057\n",
       "524             444  2014    73.113470   -155.780934    4438.528744\n",
       "428             360  2007    73.445754   -135.796013    4438.400995\n",
       "331             300  2008    75.357527   -151.414796    4403.301635"
      ]
     },
     "execution_count": 58,
     "metadata": {},
     "output_type": "execute_result"
    }
   ],
   "source": [
    "# ¿Hay alguna osa que tenga más de 10,000 km?\n",
    "new_df.sort_values(\"TotalDistance\", ascending=False).head(10)\n"
   ]
  },
  {
   "cell_type": "code",
   "execution_count": null,
   "id": "ad362662",
   "metadata": {},
   "outputs": [],
   "source": []
  }
 ],
 "metadata": {
  "kernelspec": {
   "display_name": "Python 3",
   "language": "python",
   "name": "python3"
  },
  "language_info": {
   "codemirror_mode": {
    "name": "ipython",
    "version": 3
   },
   "file_extension": ".py",
   "mimetype": "text/x-python",
   "name": "python",
   "nbconvert_exporter": "python",
   "pygments_lexer": "ipython3",
   "version": "3.11.4"
  }
 },
 "nbformat": 4,
 "nbformat_minor": 5
}
