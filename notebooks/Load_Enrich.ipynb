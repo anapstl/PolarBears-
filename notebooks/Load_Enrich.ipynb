{
 "cells": [
  {
   "cell_type": "markdown",
   "id": "f3d89bd8",
   "metadata": {},
   "source": [
    "# LOAD DATA"
   ]
  },
  {
   "cell_type": "markdown",
   "id": "80399092",
   "metadata": {},
   "source": [
    "### Dependencias"
   ]
  },
  {
   "cell_type": "code",
   "execution_count": null,
   "id": "6ec43613",
   "metadata": {},
   "outputs": [],
   "source": [
    "# !pip install xarray netCDF4 geopy tqdm skyfield requests pyproj"
   ]
  },
  {
   "cell_type": "markdown",
   "id": "6e8248b7",
   "metadata": {},
   "source": [
    "### Import librerías"
   ]
  },
  {
   "cell_type": "code",
   "execution_count": null,
   "id": "5b04c13a",
   "metadata": {},
   "outputs": [],
   "source": [
    "import numpy as np\n",
    "import pandas as pd\n",
    "import xarray as xr\n",
    "from datetime import datetime, timezone, timedelta\n",
    "from functools import lru_cache\n",
    "from geopy.distance import geodesic\n",
    "from numpy import radians, sin, cos, arctan2, degrees\n",
    "from pyproj import Transformer\n",
    "from skyfield.api import load, Topos\n",
    "from skyfield.almanac import find_discrete, sunrise_sunset\n",
    "from tqdm.notebook import tqdm\n",
    "tqdm.pandas()"
   ]
  },
  {
   "cell_type": "markdown",
   "id": "72bd44e1",
   "metadata": {},
   "source": [
    "### Funciones de cálculo\n",
    "* **Posición, distancia y tiempo solar**"
   ]
  },
  {
   "cell_type": "code",
   "execution_count": null,
   "id": "033814a8",
   "metadata": {},
   "outputs": [],
   "source": [
    "def adjusted_position_mc(lat, lon, se_x, se_y, n_samples=50):\n",
    "    lats = np.random.normal(lat, se_y, n_samples)\n",
    "    lons = np.random.normal(lon, se_x, n_samples)\n",
    "    return lats.mean(), lons.mean()\n",
    "\n",
    "# def adjusted_position_mc(lat, lon, se_x, se_y, n_samples=50):\n",
    "#     # Convertir error estándar (en metros) a grados\n",
    "#     lat_std_deg = se_y / 111000  # 111 km ≈ 111000 m\n",
    "#     lon_std_deg = se_x / (111000 * np.cos(np.radians(lat)) + 1e-6)  # evitar división por cero\n",
    "#     lats = np.random.normal(lat, lat_std_deg, n_samples)\n",
    "#     lons = np.random.normal(lon, lon_std_deg, n_samples)\n",
    "#     return lats.mean(), lons.mean()\n",
    "\n",
    "def haversine_distance(lat1, lon1, lat2, lon2):\n",
    "    R = 6371.0\n",
    "    lat1, lon1, lat2, lon2 = map(np.radians, [lat1, lon1, lat2, lon2])\n",
    "    dlat = lat2 - lat1; dlon = lon2 - lon1\n",
    "    a = np.sin(dlat/2)**2 + np.cos(lat1)*np.cos(lat2)*np.sin(dlon/2)**2\n",
    "    return 2*R*np.arctan2(np.sqrt(a), np.sqrt(1-a))\n",
    "\n",
    "def calculate_velocity(distance_km, time_sec):\n",
    "    return (distance_km / time_sec) * 3600 if time_sec>0 else 0\n",
    "\n",
    "def calculate_acceleration(v1, v2, time_sec):\n",
    "    return (v2 - v1) / (time_sec/3600) if time_sec>0 else 0"
   ]
  },
  {
   "cell_type": "markdown",
   "id": "86e3017a",
   "metadata": {},
   "source": [
    "#### **Horas de luz - efemérides**\n",
    "\n",
    " Tablas o datos que indican las posiciones de los cuerpos celestes (como el Sol, la Luna, los planetas, etc.) en el cielo, para fechas y horas específicas.\n",
    "\n",
    "En astronomía, se usan para saber cuándo ocurren eventos importantes, como:\n",
    "\n",
    "    - Salida y puesta del Sol 🌄🌇\n",
    "\n",
    "    - Salida y puesta de la Luna 🌕🌘\n",
    "\n",
    "    - Duración del día (horas de luz)\n",
    "\n",
    "    - Fases lunares, eclipses, etc.\n",
    "\n",
    "Por ejemplo, puedes usar _Skyfield_ para:\n",
    "\n",
    "    - Saber cuándo sale el Sol en una latitud y longitud determinada.\n",
    "\n",
    "    - Calcular las horas de luz en el Ártico, donde hay fenómenos extremos como el Sol de medianoche o la noche polar."
   ]
  },
  {
   "cell_type": "code",
   "execution_count": null,
   "id": "65ef5cbf",
   "metadata": {},
   "outputs": [],
   "source": [
    "eph = load('de421.bsp')\n",
    "ts = load.timescale()\n",
    "@lru_cache(maxsize=50000)\n",
    "def get_daylight(lat, lon, date_str):\n",
    "    d = datetime.strptime(date_str,'%Y-%m-%d').replace(tzinfo=timezone.utc)\n",
    "    t0 = ts.utc(d.year, d.month, d.day)\n",
    "    t1 = ts.utc((d+timedelta(days=1)).year, (d+timedelta(days=1)).month, (d+timedelta(days=1)).day)\n",
    "    obs = Topos(latitude_degrees=lat, longitude_degrees=lon)\n",
    "    f = sunrise_sunset(eph, obs)\n",
    "    times, events = find_discrete(t0, t1, f)\n",
    "    sunr = suns = None\n",
    "    for ti, ev in zip(times, events):\n",
    "        if ev==1: sunr = ti.utc_datetime()\n",
    "        elif ev==0: suns = ti.utc_datetime()\n",
    "    if sunr and suns:\n",
    "        dh = (suns - sunr).total_seconds()/3600\n",
    "        return dh, False, False\n",
    "    else:\n",
    "        alt = eph['Earth']+obs\n",
    "        sun_alt = alt.at(t0).observe(eph['Sun']).apparent().altaz()[0].degrees\n",
    "        if sun_alt>0: return 24.0, False, True\n",
    "        else: return 0.0, True, False"
   ]
  },
  {
   "cell_type": "markdown",
   "id": "d49aa97c",
   "metadata": {},
   "source": [
    "#### **Datos ambientales remotos**\n",
    "\n",
    "* **Cobertura de hielo**\n",
    "\n",
    "\n",
    "datos ambientales satelitales en forma de grilla a través del URL que corresponde a un servidor ERDDAP del gobierno de EE.UU., específicamente del NOAA PolarWatch. Proporciona acceso a \n",
    "\n",
    "En concreto, este endpoint:\n",
    "\n",
    "https://polarwatch.noaa.gov/erddap/griddap/nsidcG02202v4nh1day\n",
    "\n",
    "se refiere al producto de concentración diaria de hielo marino del hemisferio norte, conocido como:\n",
    "\n",
    "NSIDC-0051 / G02202 Version 4 — Northern Hemisphere Daily Sea Ice Concentration"
   ]
  },
  {
   "cell_type": "markdown",
   "id": "00008178",
   "metadata": {},
   "source": [
    "    Filtrar por intervalo 2007 -2017"
   ]
  },
  {
   "cell_type": "code",
   "execution_count": null,
   "id": "dcb80596",
   "metadata": {},
   "outputs": [],
   "source": [
    "url = 'https://polarwatch.noaa.gov/erddap/griddap/nsidcG02202v4nh1day'\n",
    "ds = xr.open_dataset(url, engine='netcdf4').sel(time=slice('1985-01-01','2017-12-31'))\n",
    "ds = ds.sel(time=slice('2007-01-01', '2017-12-31'))\n",
    "vars_env = ['cdr_seaice_conc','temp_surface','wind_speed','cloud_cover']\n"
   ]
  },
  {
   "cell_type": "code",
   "execution_count": null,
   "id": "0b72c0ac",
   "metadata": {},
   "outputs": [],
   "source": [
    "\n",
    "@lru_cache(maxsize=50000)\n",
    "def get_env(ds, var, lat, lon, date_str):\n",
    "    try:\n",
    "        return float(ds[var].sel(time=np.datetime64(date_str), latitude=lat, longitude=lon, method='nearest').values)\n",
    "    except: return np.nan"
   ]
  },
  {
   "cell_type": "markdown",
   "id": "88783799",
   "metadata": {},
   "source": [
    "La proyección polar es una forma de representar zonas cercanas a los polos (como el Ártico) en un mapa plano. En lugar de usar latitud y longitud directamente (como en los mapas comunes), transforma esas coordenadas en un sistema centrado en el polo.\n",
    "\n",
    "🧊 ¿Por qué se usa?\n",
    "\n",
    "   Porque en regiones polares, las líneas de longitud se juntan mucho y los mapas se deforman. La proyección polar mantiene mejor las distancias y formas en esas zonas.\n",
    "\n",
    "📌 En los datos satelitales como los del hielo marino:  \n",
    "\n",
    "No están en lat/lon directamente, sino en una grilla con una proyección polar.  \n",
    "\n",
    "Para extraer un valor (como concentración de hielo) en una lat/lon, necesitas convertir esa lat/lon a coordenadas de esa grilla."
   ]
  },
  {
   "cell_type": "code",
   "execution_count": null,
   "id": "ad9009e7",
   "metadata": {},
   "outputs": [],
   "source": [
    "\n",
    "# Definición del transformador: de lat/lon (WGS84) a proyección polar (usamos EPSG:3413 como estándar NOAA Ártico)\n",
    "transformer = Transformer.from_crs(\"EPSG:4326\", \"EPSG:3413\", always_xy=True)\n",
    "\n",
    "# Función de conversión\n",
    "def convert_to_projected(lat, lon):\n",
    "    x, y = transformer.transform(lon, lat)\n",
    "    return x, y"
   ]
  },
  {
   "cell_type": "markdown",
   "id": "1b181e66",
   "metadata": {},
   "source": [
    "### **Datos CSV principal**  \n",
    "\n",
    "    Cargar y ordenar"
   ]
  },
  {
   "cell_type": "code",
   "execution_count": null,
   "id": "22200c23",
   "metadata": {},
   "outputs": [
    {
     "data": {
      "text/html": [
       "<div>\n",
       "<style scoped>\n",
       "    .dataframe tbody tr th:only-of-type {\n",
       "        vertical-align: middle;\n",
       "    }\n",
       "\n",
       "    .dataframe tbody tr th {\n",
       "        vertical-align: top;\n",
       "    }\n",
       "\n",
       "    .dataframe thead th {\n",
       "        text-align: right;\n",
       "    }\n",
       "</style>\n",
       "<table border=\"1\" class=\"dataframe\">\n",
       "  <thead>\n",
       "    <tr style=\"text-align: right;\">\n",
       "      <th></th>\n",
       "      <th>UniqueAnimalID</th>\n",
       "      <th>timestamp</th>\n",
       "      <th>mu_lat</th>\n",
       "      <th>mu_lon</th>\n",
       "      <th>se_mu_x</th>\n",
       "      <th>se_mu_y</th>\n",
       "    </tr>\n",
       "  </thead>\n",
       "  <tbody>\n",
       "    <tr>\n",
       "      <th>0</th>\n",
       "      <td>1</td>\n",
       "      <td>7/1/1986 0:00</td>\n",
       "      <td>69.7687</td>\n",
       "      <td>-141.3759</td>\n",
       "      <td>14589</td>\n",
       "      <td>14589</td>\n",
       "    </tr>\n",
       "    <tr>\n",
       "      <th>1</th>\n",
       "      <td>1</td>\n",
       "      <td>7/1/1986 6:00</td>\n",
       "      <td>69.7703</td>\n",
       "      <td>-141.3863</td>\n",
       "      <td>12248</td>\n",
       "      <td>12248</td>\n",
       "    </tr>\n",
       "    <tr>\n",
       "      <th>2</th>\n",
       "      <td>1</td>\n",
       "      <td>7/1/1986 12:00</td>\n",
       "      <td>69.7718</td>\n",
       "      <td>-141.3942</td>\n",
       "      <td>9375</td>\n",
       "      <td>9375</td>\n",
       "    </tr>\n",
       "    <tr>\n",
       "      <th>3</th>\n",
       "      <td>1</td>\n",
       "      <td>7/1/1986 18:00</td>\n",
       "      <td>69.7730</td>\n",
       "      <td>-141.3960</td>\n",
       "      <td>5835</td>\n",
       "      <td>5835</td>\n",
       "    </tr>\n",
       "    <tr>\n",
       "      <th>4</th>\n",
       "      <td>1</td>\n",
       "      <td>7/2/1986 0:00</td>\n",
       "      <td>69.7738</td>\n",
       "      <td>-141.3834</td>\n",
       "      <td>2517</td>\n",
       "      <td>2517</td>\n",
       "    </tr>\n",
       "  </tbody>\n",
       "</table>\n",
       "</div>"
      ],
      "text/plain": [
       "   UniqueAnimalID       timestamp   mu_lat    mu_lon  se_mu_x  se_mu_y\n",
       "0               1   7/1/1986 0:00  69.7687 -141.3759    14589    14589\n",
       "1               1   7/1/1986 6:00  69.7703 -141.3863    12248    12248\n",
       "2               1  7/1/1986 12:00  69.7718 -141.3942     9375     9375\n",
       "3               1  7/1/1986 18:00  69.7730 -141.3960     5835     5835\n",
       "4               1   7/2/1986 0:00  69.7738 -141.3834     2517     2517"
      ]
     },
     "execution_count": 77,
     "metadata": {},
     "output_type": "execute_result"
    }
   ],
   "source": [
    "df = pd.read_csv('../data/raw/polarBear_CTCRWlocations_chukchiBeaufort_1985-2017.csv')\n",
    "df.head()"
   ]
  },
  {
   "cell_type": "markdown",
   "id": "23f98b5a",
   "metadata": {},
   "source": [
    "    Filtrar por intervalo 2007 - 2017"
   ]
  },
  {
   "cell_type": "code",
   "execution_count": null,
   "id": "af37651c",
   "metadata": {},
   "outputs": [],
   "source": [
    "df['timestamp'] = pd.to_datetime(df['timestamp'])\n",
    "df = df[(df['timestamp'].dt.year >= 2007) & (df['timestamp'].dt.year <= 2017)]\n",
    "df = df.sort_values(['UniqueAnimalID','timestamp']).reset_index(drop=True)"
   ]
  },
  {
   "cell_type": "code",
   "execution_count": null,
   "id": "5cb2d9bf",
   "metadata": {},
   "outputs": [],
   "source": [
    "batch_size = 10000\n",
    "res = []\n",
    "\n",
    "@lru_cache(maxsize=50000)\n",
    "def get_env(var, x_proj, y_proj, date_str):\n",
    "    try:\n",
    "        return float(ds[var].sel(\n",
    "            time=np.datetime64(date_str),\n",
    "            xgrid=x_proj,\n",
    "            ygrid=y_proj,\n",
    "            method='nearest'\n",
    "        ).values)\n",
    "    except:\n",
    "        return np.nan"
   ]
  },
  {
   "cell_type": "code",
   "execution_count": null,
   "id": "b914bc8b",
   "metadata": {},
   "outputs": [],
   "source": [
    "\n",
    "for i in tqdm(range(0, len(df), batch_size), desc='Batches'):\n",
    "    b = df.iloc[i:i+batch_size].copy()\n",
    "\n",
    "    # Ajuste de posición con Monte Carlo y rounding\n",
    "    b['adj_lat'], b['adj_lon'] = zip(*b.progress_apply(\n",
    "        lambda r: adjusted_position_mc(r['mu_lat'], r['mu_lon'], r['se_mu_x'], r['se_mu_y']), axis=1))\n",
    "    b['date_str'] = b['timestamp'].dt.strftime('%Y-%m-%d')\n",
    "    b['lat2'] = b['adj_lat'].round(2)\n",
    "    b['lon2'] = b['adj_lon'].round(2)\n",
    "    b['proj_x'], b['proj_y'] = zip(*b.progress_apply(lambda r: convert_to_projected(r['lat2'], r['lon2']), axis=1))\n",
    "\n",
    "\n",
    "    # Inicializamos columnas vacías para luego asignar\n",
    "    b['distance_km'] = 0.0\n",
    "    b['velocity_kmh'] = 0.0\n",
    "    b['acceleration_kmh2'] = 0.0\n",
    "\n",
    "    # Procesar por UniqueAnimalID dentro del batch\n",
    "    for aid, g in b.groupby('UniqueAnimalID'):\n",
    "        g = g.reset_index()\n",
    "\n",
    "        if len(g) < 2:\n",
    "            continue  # saltar grupos con un solo punto\n",
    "\n",
    "        dists = [0.0]\n",
    "        vels = [0.0]\n",
    "        accs = [0.0]\n",
    "\n",
    "        for j in range(1, len(g)):\n",
    "            dt = (g.loc[j, 'timestamp'] - g.loc[j - 1, 'timestamp']).total_seconds()\n",
    "            dk = haversine_distance(g.loc[j - 1, 'adj_lat'], g.loc[j - 1, 'adj_lon'], g.loc[j, 'adj_lat'], g.loc[j, 'adj_lon'])\n",
    "            dists.append(dk)\n",
    "            vels.append(calculate_velocity(dk, dt))\n",
    "\n",
    "        for j in range(1, len(vels)):\n",
    "            dt_acc = (g.loc[j, 'timestamp'] - g.loc[j - 1, 'timestamp']).total_seconds()\n",
    "            accs.append(calculate_acceleration(vels[j - 1], vels[j], dt_acc))\n",
    "\n",
    "        # Ajustar tamaño de accs si es mayor\n",
    "        if len(accs) > len(g):\n",
    "            accs = accs[:len(g)]\n",
    "\n",
    "        # Asignar resultados al DataFrame original 'b' usando el índice original\n",
    "        b.loc[g['index'], 'distance_km'] = dists\n",
    "        b.loc[g['index'], 'velocity_kmh'] = vels\n",
    "        b.loc[g['index'], 'acceleration_kmh2'] = accs\n",
    "\n",
    "    # Calcular daylight y variables ambientales\n",
    "    b[['daylight_hours', 'is_polar_night', 'is_midnight_sun']] = b.progress_apply(\n",
    "        lambda r: pd.Series(get_daylight(r['lat2'], r['lon2'], r['date_str'])), axis=1)\n",
    "\n",
    "    for var in vars_env:\n",
    "        b[var] = b.progress_apply(lambda r: get_env(var, r['proj_x'], r['proj_y'], r['date_str']), axis=1)\n",
    "\n",
    "    res.append(b)\n",
    "\n",
    "    df_final = pd.concat(res).reset_index(drop=True)\n"
   ]
  },
  {
   "cell_type": "code",
   "execution_count": null,
   "id": "5250e34c",
   "metadata": {},
   "outputs": [],
   "source": [
    "def bearing_mc(lat1, lon1, lat2, lon2, se_x1, se_y1, se_x2, se_y2, n=30):\n",
    "    '''\n",
    "        Función para dirección con propagación de error (Monte Carlo)\n",
    "    '''\n",
    "    bearings = []\n",
    "    for _ in range(n):\n",
    "        l1 = np.random.normal(lat1, se_y1)\n",
    "        o1 = np.random.normal(lon1, se_x1)\n",
    "        l2 = np.random.normal(lat2, se_y2)\n",
    "        o2 = np.random.normal(lon2, se_x2)\n",
    "\n",
    "        φ1, φ2 = radians(l1), radians(l2)\n",
    "        λ1, λ2 = radians(o1), radians(o2)\n",
    "        y = sin(λ2 - λ1) * cos(φ2)\n",
    "        x = cos(φ1) * sin(φ2) - sin(φ1) * cos(φ2) * cos(λ2 - λ1)\n",
    "        θ = degrees(arctan2(y, x))\n",
    "        bearings.append((θ + 360) % 360)\n",
    "    return np.mean(bearings)\n",
    "\n",
    "# Calcular previos para cambio de dirección\n",
    "df_final['prev_lat'] = df_final.groupby('UniqueAnimalID')['adj_lat'].shift(1)\n",
    "df_final['prev_lon'] = df_final.groupby('UniqueAnimalID')['adj_lon'].shift(1)\n",
    "df_final['prev_se_x'] = df_final.groupby('UniqueAnimalID')['se_mu_x'].shift(1)\n",
    "df_final['prev_se_y'] = df_final.groupby('UniqueAnimalID')['se_mu_y'].shift(1)\n",
    "\n",
    "# Calcular bearing con error\n",
    "df_final['bearing'] = df_final.progress_apply(\n",
    "    lambda r: bearing_mc(\n",
    "        r['prev_lat'], r['prev_lon'], r['adj_lat'], r['adj_lon'],\n",
    "        r['prev_se_x'], r['prev_se_y'], r['se_mu_x'], r['se_mu_y']\n",
    "    ) if pd.notnull(r['prev_lat']) else np.nan,\n",
    "    axis=1\n",
    ")\n",
    "\n",
    "# Calcular cambio de dirección\n",
    "df_final['prev_bearing'] = df_final.groupby('UniqueAnimalID')['bearing'].shift(1)\n",
    "df_final['bearing_change'] = df_final.apply(\n",
    "    lambda r: abs((r['bearing'] - r['prev_bearing'] + 180) % 360 - 180)\n",
    "    if pd.notnull(r['prev_bearing']) else 0,\n",
    "    axis=1\n",
    ")"
   ]
  },
  {
   "cell_type": "markdown",
   "id": "46aa9d2b",
   "metadata": {},
   "source": [
    "#### *__Distance_per_day__*"
   ]
  },
  {
   "cell_type": "code",
   "execution_count": null,
   "id": "a874bdcf",
   "metadata": {},
   "outputs": [],
   "source": [
    "df_final['date'] = df_final['timestamp'].dt.date\n",
    "daily_distance = df_final.groupby(['UniqueAnimalID', 'date'])['distance_km'].sum().reset_index()\n",
    "daily_distance.rename(columns={'distance_km': 'distance_per_day'}, inplace=True)"
   ]
  },
  {
   "cell_type": "markdown",
   "id": "236228ce",
   "metadata": {},
   "source": [
    "#### __Merge final__"
   ]
  },
  {
   "cell_type": "code",
   "execution_count": null,
   "id": "d99d7cd5",
   "metadata": {},
   "outputs": [],
   "source": [
    "\n",
    "# Merge con df_final\n",
    "df_final = df_final.merge(daily_distance, on=['UniqueAnimalID', 'date'], how='left')\n"
   ]
  },
  {
   "cell_type": "markdown",
   "id": "16a64f82",
   "metadata": {},
   "source": [
    "-----------------------------------------------------------------------------\n",
    "# SAVE RICH DS"
   ]
  },
  {
   "cell_type": "code",
   "execution_count": null,
   "id": "58534cc2",
   "metadata": {},
   "outputs": [],
   "source": [
    "df_final.to_csv('polar_bear_processed_full.csv', index=False)"
   ]
  }
 ],
 "metadata": {
  "kernelspec": {
   "display_name": "Python 3",
   "language": "python",
   "name": "python3"
  },
  "language_info": {
   "codemirror_mode": {
    "name": "ipython",
    "version": 3
   },
   "file_extension": ".py",
   "mimetype": "text/x-python",
   "name": "python",
   "nbconvert_exporter": "python",
   "pygments_lexer": "ipython3",
   "version": "3.11.4"
  }
 },
 "nbformat": 4,
 "nbformat_minor": 5
}
