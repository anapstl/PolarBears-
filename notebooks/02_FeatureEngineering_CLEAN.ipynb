{
 "cells": [
  {
   "cell_type": "markdown",
   "id": "99cbf94b",
   "metadata": {},
   "source": [
    "# 02 - Feature Engineering"
   ]
  },
  {
   "cell_type": "markdown",
   "id": "051849a3",
   "metadata": {},
   "source": [
    "# Install"
   ]
  },
  {
   "cell_type": "code",
   "execution_count": null,
   "id": "c9695238",
   "metadata": {},
   "outputs": [],
   "source": [
    "# !pip install pyproj"
   ]
  },
  {
   "cell_type": "markdown",
   "id": "bd53ee7e",
   "metadata": {},
   "source": [
    "# Librerías"
   ]
  },
  {
   "cell_type": "code",
   "execution_count": 8,
   "id": "d0da16e4",
   "metadata": {},
   "outputs": [],
   "source": [
    "import pandas as pd\n",
    "import numpy as np\n",
    "from numpy import radians, sin, cos, arctan2, degrees\n",
    "from pyproj import Transformer\n",
    "from tqdm.notebook import tqdm\n",
    "import seaborn as sns\n",
    "import matplotlib.pyplot as plt"
   ]
  },
  {
   "cell_type": "markdown",
   "id": "2a54dd80",
   "metadata": {},
   "source": [
    "## 1. Cargar dataset enriquecido"
   ]
  },
  {
   "cell_type": "code",
   "execution_count": 9,
   "id": "f6db33bc",
   "metadata": {},
   "outputs": [
    {
     "name": "stdout",
     "output_type": "stream",
     "text": [
      "Shape: (294608, 20)\n"
     ]
    },
    {
     "data": {
      "text/html": [
       "<div>\n",
       "<style scoped>\n",
       "    .dataframe tbody tr th:only-of-type {\n",
       "        vertical-align: middle;\n",
       "    }\n",
       "\n",
       "    .dataframe tbody tr th {\n",
       "        vertical-align: top;\n",
       "    }\n",
       "\n",
       "    .dataframe thead th {\n",
       "        text-align: right;\n",
       "    }\n",
       "</style>\n",
       "<table border=\"1\" class=\"dataframe\">\n",
       "  <thead>\n",
       "    <tr style=\"text-align: right;\">\n",
       "      <th></th>\n",
       "      <th>UniqueAnimalID</th>\n",
       "      <th>timestamp</th>\n",
       "      <th>mu_lat</th>\n",
       "      <th>mu_lon</th>\n",
       "      <th>se_mu_x</th>\n",
       "      <th>se_mu_y</th>\n",
       "      <th>adj_lat</th>\n",
       "      <th>adj_lon</th>\n",
       "      <th>prev_lat</th>\n",
       "      <th>prev_lon</th>\n",
       "      <th>prev_time</th>\n",
       "      <th>distance_km</th>\n",
       "      <th>time_diff_hr</th>\n",
       "      <th>velocity_kmh</th>\n",
       "      <th>prev_velocity</th>\n",
       "      <th>acceleration_kmph2</th>\n",
       "      <th>date</th>\n",
       "      <th>daylight_hours</th>\n",
       "      <th>is_polar_night</th>\n",
       "      <th>is_midnight_sun</th>\n",
       "    </tr>\n",
       "  </thead>\n",
       "  <tbody>\n",
       "    <tr>\n",
       "      <th>0</th>\n",
       "      <td>1</td>\n",
       "      <td>1986-07-01 12:00:00</td>\n",
       "      <td>69.7718</td>\n",
       "      <td>-141.3942</td>\n",
       "      <td>9375</td>\n",
       "      <td>9375</td>\n",
       "      <td>69.761663</td>\n",
       "      <td>-141.428310</td>\n",
       "      <td>69.769565</td>\n",
       "      <td>-141.323069</td>\n",
       "      <td>1986-07-01 06:00:00</td>\n",
       "      <td>4.158416</td>\n",
       "      <td>6.0</td>\n",
       "      <td>0.693069</td>\n",
       "      <td>NaN</td>\n",
       "      <td>NaN</td>\n",
       "      <td>1986-07-01</td>\n",
       "      <td>24.0</td>\n",
       "      <td>False</td>\n",
       "      <td>True</td>\n",
       "    </tr>\n",
       "    <tr>\n",
       "      <th>1</th>\n",
       "      <td>1</td>\n",
       "      <td>1986-07-01 18:00:00</td>\n",
       "      <td>69.7730</td>\n",
       "      <td>-141.3960</td>\n",
       "      <td>5835</td>\n",
       "      <td>5835</td>\n",
       "      <td>69.772693</td>\n",
       "      <td>-141.403451</td>\n",
       "      <td>69.761663</td>\n",
       "      <td>-141.428310</td>\n",
       "      <td>1986-07-01 12:00:00</td>\n",
       "      <td>1.560623</td>\n",
       "      <td>6.0</td>\n",
       "      <td>0.260104</td>\n",
       "      <td>0.693069</td>\n",
       "      <td>-0.072161</td>\n",
       "      <td>1986-07-01</td>\n",
       "      <td>24.0</td>\n",
       "      <td>False</td>\n",
       "      <td>True</td>\n",
       "    </tr>\n",
       "    <tr>\n",
       "      <th>2</th>\n",
       "      <td>1</td>\n",
       "      <td>1986-07-02 00:00:00</td>\n",
       "      <td>69.7738</td>\n",
       "      <td>-141.3834</td>\n",
       "      <td>2517</td>\n",
       "      <td>2517</td>\n",
       "      <td>69.773429</td>\n",
       "      <td>-141.388987</td>\n",
       "      <td>69.772693</td>\n",
       "      <td>-141.403451</td>\n",
       "      <td>1986-07-01 18:00:00</td>\n",
       "      <td>0.564330</td>\n",
       "      <td>6.0</td>\n",
       "      <td>0.094055</td>\n",
       "      <td>0.260104</td>\n",
       "      <td>-0.027675</td>\n",
       "      <td>1986-07-02</td>\n",
       "      <td>24.0</td>\n",
       "      <td>False</td>\n",
       "      <td>True</td>\n",
       "    </tr>\n",
       "    <tr>\n",
       "      <th>3</th>\n",
       "      <td>1</td>\n",
       "      <td>1986-07-02 06:00:00</td>\n",
       "      <td>69.7736</td>\n",
       "      <td>-141.3448</td>\n",
       "      <td>5323</td>\n",
       "      <td>5323</td>\n",
       "      <td>69.764930</td>\n",
       "      <td>-141.331186</td>\n",
       "      <td>69.773429</td>\n",
       "      <td>-141.388987</td>\n",
       "      <td>1986-07-02 00:00:00</td>\n",
       "      <td>2.424701</td>\n",
       "      <td>6.0</td>\n",
       "      <td>0.404117</td>\n",
       "      <td>0.094055</td>\n",
       "      <td>0.051677</td>\n",
       "      <td>1986-07-02</td>\n",
       "      <td>24.0</td>\n",
       "      <td>False</td>\n",
       "      <td>True</td>\n",
       "    </tr>\n",
       "    <tr>\n",
       "      <th>4</th>\n",
       "      <td>1</td>\n",
       "      <td>1986-07-02 12:00:00</td>\n",
       "      <td>69.7727</td>\n",
       "      <td>-141.2902</td>\n",
       "      <td>8840</td>\n",
       "      <td>8840</td>\n",
       "      <td>69.783728</td>\n",
       "      <td>-141.265125</td>\n",
       "      <td>69.764930</td>\n",
       "      <td>-141.331186</td>\n",
       "      <td>1986-07-02 06:00:00</td>\n",
       "      <td>3.301497</td>\n",
       "      <td>6.0</td>\n",
       "      <td>0.550249</td>\n",
       "      <td>0.404117</td>\n",
       "      <td>0.024355</td>\n",
       "      <td>1986-07-02</td>\n",
       "      <td>24.0</td>\n",
       "      <td>False</td>\n",
       "      <td>True</td>\n",
       "    </tr>\n",
       "  </tbody>\n",
       "</table>\n",
       "</div>"
      ],
      "text/plain": [
       "   UniqueAnimalID           timestamp   mu_lat    mu_lon  se_mu_x  se_mu_y  \\\n",
       "0               1 1986-07-01 12:00:00  69.7718 -141.3942     9375     9375   \n",
       "1               1 1986-07-01 18:00:00  69.7730 -141.3960     5835     5835   \n",
       "2               1 1986-07-02 00:00:00  69.7738 -141.3834     2517     2517   \n",
       "3               1 1986-07-02 06:00:00  69.7736 -141.3448     5323     5323   \n",
       "4               1 1986-07-02 12:00:00  69.7727 -141.2902     8840     8840   \n",
       "\n",
       "     adj_lat     adj_lon   prev_lat    prev_lon           prev_time  \\\n",
       "0  69.761663 -141.428310  69.769565 -141.323069 1986-07-01 06:00:00   \n",
       "1  69.772693 -141.403451  69.761663 -141.428310 1986-07-01 12:00:00   \n",
       "2  69.773429 -141.388987  69.772693 -141.403451 1986-07-01 18:00:00   \n",
       "3  69.764930 -141.331186  69.773429 -141.388987 1986-07-02 00:00:00   \n",
       "4  69.783728 -141.265125  69.764930 -141.331186 1986-07-02 06:00:00   \n",
       "\n",
       "   distance_km  time_diff_hr  velocity_kmh  prev_velocity  acceleration_kmph2  \\\n",
       "0     4.158416           6.0      0.693069            NaN                 NaN   \n",
       "1     1.560623           6.0      0.260104       0.693069           -0.072161   \n",
       "2     0.564330           6.0      0.094055       0.260104           -0.027675   \n",
       "3     2.424701           6.0      0.404117       0.094055            0.051677   \n",
       "4     3.301497           6.0      0.550249       0.404117            0.024355   \n",
       "\n",
       "         date  daylight_hours  is_polar_night  is_midnight_sun  \n",
       "0  1986-07-01            24.0           False             True  \n",
       "1  1986-07-01            24.0           False             True  \n",
       "2  1986-07-02            24.0           False             True  \n",
       "3  1986-07-02            24.0           False             True  \n",
       "4  1986-07-02            24.0           False             True  "
      ]
     },
     "execution_count": 9,
     "metadata": {},
     "output_type": "execute_result"
    }
   ],
   "source": [
    "df = pd.read_parquet(\"../data/processed/rich_dataset.parquet\")\n",
    "print(f\"Shape: {df.shape}\")\n",
    "df.head()"
   ]
  },
  {
   "cell_type": "markdown",
   "id": "9cb052ec",
   "metadata": {},
   "source": [
    "## 2. Correcciones finales y limpieza"
   ]
  },
  {
   "cell_type": "code",
   "execution_count": 4,
   "id": "c72b301e",
   "metadata": {},
   "outputs": [],
   "source": [
    "# TODO check si queda algo???? y si eso"
   ]
  },
  {
   "cell_type": "code",
   "execution_count": null,
   "id": "4fa7c197",
   "metadata": {},
   "outputs": [],
   "source": [
    "df = df.dropna(subset=[\"prev_lat\", \"prev_lon\", \"velocity_kmh\", \"acceleration_kmph2\"])"
   ]
  },
  {
   "cell_type": "markdown",
   "id": "58faf6cb",
   "metadata": {},
   "source": [
    "## 3. 4. Cargar resumen por osa y merge con _rich_data_\n",
    "+ `dias_tracking`, `TotalDistance_km`, `distance_per_day`, `AvgLatitude`, `Year`"
   ]
  },
  {
   "cell_type": "code",
   "execution_count": null,
   "id": "0fedd970",
   "metadata": {},
   "outputs": [],
   "source": [
    "resumen_path = \"data/processed/resumen_trayectorias.parquet\"\n",
    "\n",
    "# Cargar resumen previamente calculado en EDA\n",
    "resumen_trayectorias = pd.read_parquet(resumen_path)\n",
    "\n",
    "print(f\"Resumen de trayectorias cargado: {resumen_trayectorias.shape[0]} osas.\")\n",
    "resumen_trayectorias.head()"
   ]
  },
  {
   "cell_type": "code",
   "execution_count": null,
   "id": "efa10252",
   "metadata": {},
   "outputs": [],
   "source": [
    "df = df.merge(resumen_trayectorias, on=\"UniqueAnimalID\", how=\"left\")\n",
    "\n",
    "print(f\"Merge completado: {df.shape[0]} registros con métricas individuales añadidas.\")\n"
   ]
  },
  {
   "cell_type": "markdown",
   "id": "f85a2e02",
   "metadata": {},
   "source": [
    "### 📎 Nota: resumen por osa ya calculado\n",
    "\n",
    "Las métricas por osa (`dias_tracking`, `TotalDistance_km`, `distance_per_day`, `AvgLatitude`, `Year`, etc.) \n",
    "fueron calculadas previamente durante el análisis exploratorio en `01_aEDA.ipynb`.\n",
    "\n",
    "Aquí se cargan directamente desde el archivo `resumen_trayectorias.parquet` para evitar duplicación de lógica.\n"
   ]
  },
  {
   "cell_type": "markdown",
   "id": "9a563a19",
   "metadata": {},
   "source": [
    "## ~~3. Cargar días de tracking por osa~~"
   ]
  },
  {
   "cell_type": "code",
   "execution_count": null,
   "id": "58c0a350",
   "metadata": {},
   "outputs": [],
   "source": [
    "# dias_tracking = pd.read_parquet(\"data/processed/dias_tracking.parquet\")\n",
    "# df = df.merge(dias_tracking[[\"UniqueAnimalID\", \"dias_tracking\"]], on=\"UniqueAnimalID\", how=\"left\")"
   ]
  },
  {
   "cell_type": "markdown",
   "id": "c47497ff",
   "metadata": {},
   "source": [
    "## 4. ~~Resumen por osa (media de lat, lon, distancia total y por día)~~"
   ]
  },
  {
   "cell_type": "code",
   "execution_count": null,
   "id": "e99bea89",
   "metadata": {},
   "outputs": [],
   "source": [
    "# resumen = df.groupby(\"UniqueAnimalID\").agg({\n",
    "#     \"mu_lat\": \"mean\",\n",
    "#     \"mu_lon\": \"mean\",\n",
    "#     \"distance_km\": \"sum\"\n",
    "# }).reset_index()\n",
    "\n",
    "# resumen.columns = [\"UniqueAnimalID\", \"AvgLatitude\", \"AvgLongitude\", \"TotalDistance_km\"]\n",
    "# resumen = resumen.merge(dias_tracking[[\"UniqueAnimalID\", \"dias_tracking\"]], on=\"UniqueAnimalID\")\n",
    "# resumen[\"distance_per_day\"] = resumen[\"TotalDistance_km\"] / resumen[\"dias_tracking\"]\n",
    "# resumen.head()"
   ]
  },
  {
   "cell_type": "markdown",
   "id": "177d20e5",
   "metadata": {},
   "source": [
    "## 5. Asignación de estación del año"
   ]
  },
  {
   "cell_type": "code",
   "execution_count": null,
   "id": "60ab59c9",
   "metadata": {},
   "outputs": [],
   "source": [
    "def asignar_estacion(fecha):\n",
    "    mes = fecha.month\n",
    "    if mes in [12, 1, 2]:\n",
    "        return \"invierno\"\n",
    "    elif mes in [3, 4, 5]:\n",
    "        return \"primavera\"\n",
    "    elif mes in [6, 7, 8]:\n",
    "        return \"verano\"\n",
    "    else:\n",
    "        return \"otoño\"\n",
    "\n",
    "df[\"season\"] = pd.to_datetime(df[\"timestamp\"]).apply(asignar_estacion)"
   ]
  },
  {
   "cell_type": "markdown",
   "id": "1d867d07",
   "metadata": {},
   "source": [
    "## 6. Añadir proyección polar"
   ]
  },
  {
   "cell_type": "markdown",
   "id": "99a85ebf",
   "metadata": {},
   "source": [
    "Es una transformación de coordenadas geográficas (lat, lon) a coordenadas cartesianas planas (x, y), optimizada para regiones cercanas al Polo Norte.\n",
    "Usamos EPSG:3413 → NSIDC Sea Ice Polar Stereographic North, que:\n",
    " + Corrige la distorsión en zonas árticas que sufren las proyecciones estándar como Mercator.\n",
    " + Permite cálculos precisos de distancia y ángulos cuando las osas se mueven cerca del Polo."
   ]
  },
  {
   "cell_type": "code",
   "execution_count": null,
   "id": "61553c98",
   "metadata": {},
   "outputs": [],
   "source": [
    "# Crear transformador para proyección polar\n",
    "transformer = Transformer.from_crs(\"EPSG:4326\", \"EPSG:3413\", always_xy=True)\n",
    "\n",
    "# Inicializar listas\n",
    "x_coords = []\n",
    "y_coords = []\n",
    "\n",
    "# Usar tqdm para ver progreso\n",
    "for lon, lat in tqdm(zip(df[\"adj_lon\"], df[\"adj_lat\"]), total=len(df), desc=\"Proyectando coordenadas\"):\n",
    "    x, y = transformer.transform(lon, lat)\n",
    "    x_coords.append(x)\n",
    "    y_coords.append(y)\n",
    "\n",
    "# Asignar columnas al DataFrame\n",
    "df[\"x_proj\"] = x_coords\n",
    "df[\"y_proj\"] = y_coords\n",
    "\n",
    "print(\"Coordenadas proyectadas (EPSG:3413) añadidas con tqdm.\")\n"
   ]
  },
  {
   "cell_type": "markdown",
   "id": "7bd1c898",
   "metadata": {},
   "source": [
    "## 7. Dirección de movimiento"
   ]
  },
  {
   "cell_type": "code",
   "execution_count": null,
   "id": "ed145e11",
   "metadata": {},
   "outputs": [],
   "source": [
    "def bearing_mc(lat1, lon1, lat2, lon2, se_x1, se_y1, se_x2, se_y2, n=30):\n",
    "    '''\n",
    "        Función para dirección con propagación de error (Monte Carlo)\n",
    "    '''\n",
    "    bearings = []\n",
    "    for _ in range(n):\n",
    "        l1 = np.random.normal(lat1, se_y1)\n",
    "        o1 = np.random.normal(lon1, se_x1)\n",
    "        l2 = np.random.normal(lat2, se_y2)\n",
    "        o2 = np.random.normal(lon2, se_x2)\n",
    "\n",
    "        φ1, φ2 = radians(l1), radians(l2)\n",
    "        λ1, λ2 = radians(o1), radians(o2)\n",
    "        y = sin(λ2 - λ1) * cos(φ2)\n",
    "        x = cos(φ1) * sin(φ2) - sin(φ1) * cos(φ2) * cos(λ2 - λ1)\n",
    "        θ = degrees(arctan2(y, x))\n",
    "        bearings.append((θ + 360) % 360)\n",
    "    return np.mean(bearings)\n",
    "\n",
    "# Calcular previos para cambio de dirección\n",
    "df['prev_lat'] = df.groupby('UniqueAnimalID')['adj_lat'].shift(1)\n",
    "df['prev_lon'] = df.groupby('UniqueAnimalID')['adj_lon'].shift(1)\n",
    "df['prev_se_x'] = df.groupby('UniqueAnimalID')['se_mu_x'].shift(1)\n",
    "df['prev_se_y'] = df.groupby('UniqueAnimalID')['se_mu_y'].shift(1)\n",
    "\n",
    "# Calcular bearing con error\n",
    "df['bearing'] = df.progress_apply(\n",
    "    lambda r: bearing_mc(\n",
    "        r['prev_lat'], r['prev_lon'], r['adj_lat'], r['adj_lon'],\n",
    "        r['prev_se_x'], r['prev_se_y'], r['se_mu_x'], r['se_mu_y']\n",
    "    ) if pd.notnull(r['prev_lat']) else np.nan,\n",
    "    axis=1\n",
    ")\n",
    "\n",
    "# Calcular cambio de dirección\n",
    "df['prev_bearing'] = df.groupby('UniqueAnimalID')['bearing'].shift(1)\n",
    "df['bearing_change'] = df.apply(\n",
    "    lambda r: abs((r['bearing'] - r['prev_bearing'] + 180) % 360 - 180)\n",
    "    if pd.notnull(r['prev_bearing']) else 0,\n",
    "    axis=1\n",
    ")"
   ]
  },
  {
   "cell_type": "markdown",
   "id": "77f4ab6f",
   "metadata": {},
   "source": [
    "### Distribución de cambios de dirección (_bearing_change_)"
   ]
  },
  {
   "cell_type": "code",
   "execution_count": null,
   "id": "f07261a9",
   "metadata": {},
   "outputs": [],
   "source": [
    "plt.figure(figsize=(10, 5))\n",
    "sns.histplot(df['bearing_change'], bins=60, kde=True, color=\"#007acc\")\n",
    "\n",
    "plt.title(\"Distribución de cambios de dirección (bearing_change)\", fontsize=14)\n",
    "plt.xlabel(\"Cambio de dirección (°)\")\n",
    "plt.ylabel(\"Frecuencia\")\n",
    "plt.grid(False)\n",
    "sns.despine()\n",
    "\n",
    "plt.show()"
   ]
  },
  {
   "cell_type": "markdown",
   "id": "9174b692",
   "metadata": {},
   "source": [
    "    Picos cerca de 0° → movimientos rectos → traveling\n",
    "\n",
    "    Picos hacia 90°–180° → giros bruscos o looping → foraging o drifting\n",
    "\n",
    "Esto puede alimentar un modelo o una segmentación posterior por patrón de movimiento 🐾"
   ]
  },
  {
   "cell_type": "markdown",
   "id": "f8323f7f",
   "metadata": {},
   "source": [
    "###  Gráfico: _bearing_change_ por estación del año (_season_)"
   ]
  },
  {
   "cell_type": "code",
   "execution_count": null,
   "id": "865bc9b1",
   "metadata": {},
   "outputs": [],
   "source": [
    "plt.figure(figsize=(12, 6))\n",
    "sns.histplot(\n",
    "    data=df,\n",
    "    x=\"bearing_change\",\n",
    "    hue=\"season\",\n",
    "    bins=60,\n",
    "    kde=True,\n",
    "    palette=\"Blues\",\n",
    "    element=\"step\",\n",
    "    common_norm=False\n",
    ")\n",
    "\n",
    "plt.title(\"Distribución de cambios de dirección por estación\", fontsize=14)\n",
    "plt.xlabel(\"Cambio de dirección (°)\")\n",
    "plt.ylabel(\"Frecuencia\")\n",
    "plt.grid(False)\n",
    "sns.despine()\n",
    "plt.legend(title=\"Estación\")\n",
    "plt.show();\n"
   ]
  },
  {
   "cell_type": "markdown",
   "id": "43b0d92c",
   "metadata": {},
   "source": [
    "En invierno, ¿hay más cambios bruscos (mayor variabilidad)?\n",
    "\n",
    "En verano, ¿predominan trayectorias rectas?\n",
    "\n",
    "¿Las curvas se separan? Pista de patrones migratorios estacionales."
   ]
  },
  {
   "cell_type": "markdown",
   "id": "0e9f8628",
   "metadata": {},
   "source": [
    "## 8. _distance_per_day_ a nivel osa real y diario"
   ]
  },
  {
   "cell_type": "markdown",
   "id": "e2b532b3",
   "metadata": {},
   "source": [
    "Visualizar la actividad diaria real de cada osa\n",
    "\n",
    "Etiquetar patrones activo / estacionario\n",
    "\n",
    "Hacer análisis temporal mucho más fino"
   ]
  },
  {
   "cell_type": "code",
   "execution_count": null,
   "id": "eb276fd1",
   "metadata": {},
   "outputs": [],
   "source": [
    "# 1. Asegúrate de tener una columna fecha\n",
    "df[\"date\"] = df[\"timestamp\"].dt.date\n",
    "\n",
    "# 2. Calcular distancia diaria total por osa\n",
    "dist_por_dia = df.groupby([\"UniqueAnimalID\", \"date\"])[\"distance_km\"].sum().reset_index()\n",
    "dist_por_dia.rename(columns={\"distance_km\": \"distance_per_day_real\"}, inplace=True)\n",
    "\n",
    "# 3. Merge con el df principal si quieres tenerlo punto a punto\n",
    "df_final = df.merge(dist_por_dia, on=[\"UniqueAnimalID\", \"date\"], how=\"left\")\n",
    "\n",
    "print(\"`distance_per_day_real` añadida al dataset.\")"
   ]
  },
  {
   "cell_type": "markdown",
   "id": "55d84c07",
   "metadata": {},
   "source": [
    "## 9. Etiquetado de patrones de movimiento: _activo_ vs. _estacionario_"
   ]
  },
  {
   "cell_type": "markdown",
   "id": "85b3427e",
   "metadata": {},
   "source": [
    "| Etiqueta       | Criterio principal                      |\n",
    "| -------------- | --------------------------------------- |\n",
    "| `activo`       | Recorre más que cierto umbral ese día   |\n",
    "| `estacionario` | Recorre poco (posible descanso, deriva) |\n",
    "\n",
    "**Cómo elegit umbral?** Opción sencilla y común: usar la mediana o percentil 75 de distance_per_day_real "
   ]
  },
  {
   "cell_type": "code",
   "execution_count": null,
   "id": "9241b8c0",
   "metadata": {},
   "outputs": [],
   "source": [
    "umbral = df_final[\"distance_per_day_real\"].quantile(0.75)\n",
    "\n",
    "print(f\"Umbral para actividad diaria: {umbral:.2f} km/día\")"
   ]
  },
  {
   "cell_type": "code",
   "execution_count": null,
   "id": "d87f1926",
   "metadata": {},
   "outputs": [],
   "source": [
    "# Etiquetar en función del umbral\n",
    "df_final[\"movement_pattern\"] = df_final[\"distance_per_day_real\"].apply(\n",
    "    lambda d: \"activo\" if d > umbral else \"estacionario\"\n",
    ")\n",
    "\n",
    "df_final[\"movement_pattern\"].value_counts(normalize=True)"
   ]
  },
  {
   "cell_type": "code",
   "execution_count": null,
   "id": "933a971f",
   "metadata": {},
   "outputs": [],
   "source": [
    "plt.figure(figsize=(10, 5))\n",
    "sns.countplot(\n",
    "    data=df_final,\n",
    "    x=\"season\",\n",
    "    hue=\"movement_pattern\",\n",
    "    palette=\"Blues\"\n",
    ")\n",
    "\n",
    "plt.title(\"Patrones de movimiento por estación\", fontsize=14)\n",
    "plt.xlabel(\"Estación del año\")\n",
    "plt.ylabel(\"Número de registros\")\n",
    "plt.grid(False)\n",
    "sns.despine()\n",
    "plt.legend(title=\"Patrón\")\n",
    "plt.show();"
   ]
  },
  {
   "cell_type": "code",
   "execution_count": null,
   "id": "9184dd73",
   "metadata": {},
   "outputs": [],
   "source": [
    "# Calcular proporciones\n",
    "prop_df = (\n",
    "    df_final.groupby([\"season\", \"movement_pattern\"])\n",
    "    .size()\n",
    "    .reset_index(name=\"count\")\n",
    "    .pivot(index=\"season\", columns=\"movement_pattern\", values=\"count\")\n",
    "    .fillna(0)\n",
    ")\n",
    "\n",
    "# Normalizar por fila (estación)\n",
    "prop_df = prop_df.div(prop_df.sum(axis=1), axis=0)\n",
    "\n",
    "# Gráfico\n",
    "prop_df.plot(\n",
    "    kind=\"bar\",\n",
    "    stacked=True,\n",
    "    color=[\"#a6cee3\", \"#1f78b4\"],\n",
    "    figsize=(10, 5)\n",
    ")\n",
    "\n",
    "plt.title(\"Proporción de patrones de movimiento por estación\", fontsize=14)\n",
    "plt.xlabel(\"Estación del año\")\n",
    "plt.ylabel(\"Proporción\")\n",
    "plt.legend(title=\"Patrón\")\n",
    "plt.grid(False)\n",
    "sns.despine()\n",
    "plt.show()"
   ]
  },
  {
   "cell_type": "markdown",
   "id": "3a091f7b",
   "metadata": {},
   "source": [
    "¿Hay más días activos en verano?\n",
    "\n",
    "¿Aumenta el patrón estacionario en invierno (menos movimiento por hielo o caza pasiva)?\n",
    "\n",
    "¿Alguna estación tiene cambio de tendencia?"
   ]
  },
  {
   "cell_type": "markdown",
   "id": "00824185",
   "metadata": {},
   "source": [
    "## 10. Integración de Variables Ambientales Externas\n",
    "\n",
    "Durante el desarrollo del proyecto, en una primera fase se incorporaron variables ambientales como:\n",
    "\n",
    "- `cdr_seaice_conc` (concentración de hielo marino)\n",
    "- `temp_surface` (temperatura superficial)\n",
    "- `wind_speed` (velocidad del viento)\n",
    "- `cloud_cover` (cobertura nubosa)\n",
    "\n",
    " El proceso resultó lento (casi 4 h) y, además, de las cuatro columnas, tres eran NaN.\n",
    "\n",
    "Estas variables son biológicamente relevantes, ya que afectan el comportamiento de desplazamiento de los osos polares. Sin embargo, su integración conlleva un coste computacional elevado, especialmente en tareas de enriquecimiento espacio-temporal para grandes volúmenes de datos.\n",
    "\n",
    "**Por esta razón, se ha decidido posponer su integración hasta futuras versiones del proyecto.**  \n",
    "Se ha priorizado el análisis del movimiento basado en variables propias del GPS y derivadas internas (distancia, velocidad, aceleración, dirección, etc.), que son más sostenibles en términos de esfuerzo y rendimiento.\n"
   ]
  },
  {
   "cell_type": "markdown",
   "id": "db382acd",
   "metadata": {},
   "source": [
    "## . Guardar dataset final con features"
   ]
  },
  {
   "cell_type": "code",
   "execution_count": null,
   "id": "c29ca9d6",
   "metadata": {},
   "outputs": [],
   "source": [
    "from datetime import datetime\n",
    "timestamp = datetime.now().strftime(\"%Y%m%d_%H%M\")\n",
    "df.to_parquet(f\"data/processed/feature_dataset_{timestamp}.parquet\", index=False)"
   ]
  }
 ],
 "metadata": {
  "kernelspec": {
   "display_name": "Python 3",
   "language": "python",
   "name": "python3"
  },
  "language_info": {
   "codemirror_mode": {
    "name": "ipython",
    "version": 3
   },
   "file_extension": ".py",
   "mimetype": "text/x-python",
   "name": "python",
   "nbconvert_exporter": "python",
   "pygments_lexer": "ipython3",
   "version": "3.11.4"
  }
 },
 "nbformat": 4,
 "nbformat_minor": 5
}
