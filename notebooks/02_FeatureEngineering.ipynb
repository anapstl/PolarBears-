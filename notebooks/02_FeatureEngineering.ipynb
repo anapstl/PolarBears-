{
 "cells": [
  {
   "cell_type": "markdown",
   "id": "2218f78b",
   "metadata": {},
   "source": [
    "# FE\n",
    "\n",
    "* Calcular distancias correctamente\n",
    "\n",
    "* Derivar velocidad, aceleración, días activos\n",
    "\n",
    "* Etiquetar patrones activos/estacionarios\n",
    "\n",
    "* Calcular distance_per_day, bearing, season, etc."
   ]
  },
  {
   "cell_type": "markdown",
   "id": "167b246d",
   "metadata": {},
   "source": []
  },
  {
   "cell_type": "code",
   "execution_count": null,
   "id": "2f135046",
   "metadata": {},
   "outputs": [],
   "source": [
    "import xarray as xr\n",
    "from scipy.spatial import cKDTree\n",
    "\n",
    "def load_seaice_dataset():\n",
    "    \"\"\"\n",
    "    Carga y devuelve el dataset ambiental con concentración de hielo marino.\n",
    "    \"\"\"\n",
    "    url = 'https://polarwatch.noaa.gov/erddap/griddap/nsidcG02202v4nh1day'\n",
    "    ds = xr.open_dataset(url, engine='netcdf4')\n",
    "    ds = ds.sel(time=slice('1985-01-01','2017-12-31'))\n",
    "    return ds\n",
    "\n",
    "def build_spatial_index(ds):\n",
    "    \"\"\"\n",
    "    Construye un árbol espacial de coordenadas (lat, lon) para interpolación rápida.\n",
    "    \"\"\"\n",
    "    lon_grid, lat_grid = np.meshgrid(ds['longitude'].values, ds['latitude'].values)\n",
    "    coords = np.vstack([lat_grid.ravel(), lon_grid.ravel()]).T\n",
    "    tree = cKDTree(coords)\n",
    "    return tree, coords\n",
    "\n",
    "def get_seaice_for_row(row, ds, tree, coords):\n",
    "    \"\"\"\n",
    "    Devuelve el valor de cdr_seaice_conc para una fila dada.\n",
    "    \"\"\"\n",
    "    date = pd.to_datetime(row[\"timestamp\"]).date()\n",
    "    try:\n",
    "        sel_day = ds.sel(time=str(date))\n",
    "        dist, idx = tree.query([row[\"adj_lat\"], row[\"adj_lon\"]], k=1)\n",
    "        lat_idx, lon_idx = np.unravel_index(idx, sel_day['cdr_seaice_conc'][0].shape)\n",
    "        return float(sel_day['cdr_seaice_conc'][0, lat_idx, lon_idx].values)\n",
    "    except Exception:\n",
    "        return np.nan\n"
   ]
  },
  {
   "cell_type": "markdown",
   "id": "49ff84f4",
   "metadata": {},
   "source": [
    "como usarla?"
   ]
  },
  {
   "cell_type": "markdown",
   "id": "a5a7aec5",
   "metadata": {},
   "source": [
    "# 1. Cargar dataset y preparar árbol\n",
    "ds = load_seaice_dataset()\n",
    "tree, coords = build_spatial_index(ds)\n",
    "\n",
    "# 2. Aplicar a tu dataframe\n",
    "tqdm.pandas()\n",
    "df[\"cdr_seaice_conc\"] = df.progress_apply(lambda row: get_seaice_for_row(row, ds, tree, coords), axis=1)\n"
   ]
  },
  {
   "cell_type": "markdown",
   "id": "93d1e50d",
   "metadata": {},
   "source": [
    " Notas importantes\n",
    "\n",
    "    La latitud y longitud deben estar ajustadas (adj_lat, adj_lon)\n",
    "\n",
    "    Esto puede tardar un poco en ejecutarse (~minutos), pero puedes guardar el resultado\n",
    "\n",
    "    También puedes vectorizar más tarde usando interpolación xarray avanzada (si quieres rendimiento máximo)"
   ]
  },
  {
   "cell_type": "code",
   "execution_count": null,
   "id": "f6895c63",
   "metadata": {},
   "outputs": [],
   "source": [
    "# Asegúrate de que el bearing esté ordenado por tiempo por osa\n",
    "df = df.sort_values([\"UniqueAnimalID\", \"timestamp\"])\n",
    "\n",
    "df[\"bearing_prev\"] = df.groupby(\"UniqueAnimalID\")[\"bearing_nc\"].shift()\n",
    "df[\"bearing_change\"] = (df[\"bearing_nc\"] - df[\"bearing_prev\"]).abs()\n",
    "df[\"bearing_change\"] = df[\"bearing_change\"] % 360  # Corregir saltos circulares\n",
    "df[\"bearing_change\"] = df[\"bearing_change\"].apply(lambda x: 360 - x if x > 180 else x)\n"
   ]
  },
  {
   "cell_type": "code",
   "execution_count": null,
   "id": "b2ce0234",
   "metadata": {},
   "outputs": [],
   "source": [
    "plt.figure(figsize=(8, 4))\n",
    "sns.histplot(df[\"bearing_change\"].dropna(), bins=36, color=\"#1f77b4\")\n",
    "plt.title(\"Distribución de cambios de dirección (bearing_change)\")\n",
    "plt.xlabel(\"Cambio en dirección (°)\")\n",
    "plt.ylabel(\"Frecuencia\")\n",
    "plt.tight_layout()\n",
    "plt.show()\n"
   ]
  }
 ],
 "metadata": {
  "language_info": {
   "name": "python"
  }
 },
 "nbformat": 4,
 "nbformat_minor": 5
}
