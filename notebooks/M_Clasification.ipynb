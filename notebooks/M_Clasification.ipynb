{
 "cells": [
  {
   "cell_type": "markdown",
   "id": "67662df8",
   "metadata": {},
   "source": [
    "# Clasificar patrones de movimiento: _activo_, _pasivo_, _migración_"
   ]
  },
  {
   "cell_type": "code",
   "execution_count": null,
   "id": "878333ec",
   "metadata": {},
   "outputs": [],
   "source": [
    "import pandas as pd\n",
    "from sklearn.model_selection import train_test_split\n",
    "from sklearn.preprocessing import StandardScaler, LabelEncoder"
   ]
  },
  {
   "cell_type": "code",
   "execution_count": null,
   "id": "bd566ac6",
   "metadata": {},
   "outputs": [],
   "source": [
    "\n",
    "# Cargar datos\n",
    "df = pd.read_csv(\"datos_ositos.csv\")\n",
    "\n",
    "# Codificar etiquetas\n",
    "le = LabelEncoder()\n",
    "df['comportamiento'] = le.fit_transform(df['comportamiento'])  # activo=0, pasivo=1, migración=2\n",
    "\n",
    "# Separar características y etiquetas\n",
    "X = df.drop('comportamiento', axis=1)\n",
    "y = df['comportamiento']\n",
    "\n",
    "# Escalar características\n",
    "scaler = StandardScaler()\n",
    "X_scaled = scaler.fit_transform(X)\n",
    "\n",
    "# Dividir en entrenamiento y prueba\n",
    "X_train, X_test, y_train, y_test = train_test_split(X_scaled, y, test_size=0.2, random_state=42)\n"
   ]
  }
 ],
 "metadata": {
  "language_info": {
   "name": "python"
  }
 },
 "nbformat": 4,
 "nbformat_minor": 5
}
