{
 "cells": [
  {
   "cell_type": "markdown",
   "id": "df787dff",
   "metadata": {},
   "source": [
    "# MODELS"
   ]
  },
  {
   "cell_type": "code",
   "execution_count": null,
   "id": "88bdbb3e",
   "metadata": {},
   "outputs": [],
   "source": [
    "import pandas as pd\n",
    "import numpy as np\n",
    "import matplotlib.pyplot as plt\n",
    "import seaborn as sns\n",
    "\n",
    "from sklearn.model_selection import train_test_split, GridSearchCV\n",
    "from sklearn.preprocessing import PolynomialFeatures, StandardScaler, MinMaxScaler\n",
    "from sklearn.linear_model import LinearRegression, LogisticRegression, Ridge, Lasso\n",
    "from sklearn.pipeline import Pipeline\n",
    "from sklearn.tree import DecisionTreeClassifier\n",
    "from sklearn.metrics import mean_absolute_error, mean_squared_error, mean_absolute_percentage_error\n",
    "from sklearn.metrics import r2_score, accuracy_score, precision_score, recall_score, roc_auc_score, roc_curve"
   ]
  },
  {
   "cell_type": "code",
   "execution_count": 1,
   "id": "46cf8cc6",
   "metadata": {},
   "outputs": [],
   "source": [
    "# read full csv file"
   ]
  },
  {
   "cell_type": "markdown",
   "id": "4ca0c9eb",
   "metadata": {},
   "source": [
    "___________________________________________________________________________\n",
    "\n",
    "# MODELO KMEANS\n",
    "## ¿Segmentar osos polares por estilo de movimiento?"
   ]
  },
  {
   "cell_type": "markdown",
   "id": "931c5633",
   "metadata": {},
   "source": [
    "We will utilize the powerful k-means algorithm to create clusters, effectively grouping and categorizing the behavior of female polar bears\n",
    "- [XXX](https://medium.com/@viritaromero/a-journey-through-the-arctic-using-machine-learning-to-cluster-female-polar-bears-based-on-8a2870c5e53b)"
   ]
  },
  {
   "cell_type": "markdown",
   "id": "e684c752",
   "metadata": {},
   "source": [
    "### FE"
   ]
  },
  {
   "cell_type": "markdown",
   "id": "0c095542",
   "metadata": {},
   "source": [
    "### Total distance traveled by each polar bear"
   ]
  },
  {
   "cell_type": "code",
   "execution_count": null,
   "id": "28d80958",
   "metadata": {},
   "outputs": [],
   "source": []
  },
  {
   "cell_type": "markdown",
   "id": "7e35588f",
   "metadata": {},
   "source": [
    "### avgLat_avgLong "
   ]
  },
  {
   "cell_type": "markdown",
   "id": "aa41b54f",
   "metadata": {},
   "source": []
  },
  {
   "cell_type": "code",
   "execution_count": null,
   "id": "1f412354",
   "metadata": {},
   "outputs": [],
   "source": []
  },
  {
   "cell_type": "markdown",
   "id": "f7ff5632",
   "metadata": {},
   "source": [
    "### CREAR MODELO."
   ]
  },
  {
   "cell_type": "markdown",
   "id": "fa4139aa",
   "metadata": {},
   "source": [
    "### GUARDAMOS EL MODELO."
   ]
  },
  {
   "cell_type": "markdown",
   "id": "0f8d26ae",
   "metadata": {},
   "source": [
    "### ANÁLISIS CLUSTERS."
   ]
  },
  {
   "cell_type": "markdown",
   "id": "a96c6638",
   "metadata": {},
   "source": []
  }
 ],
 "metadata": {
  "kernelspec": {
   "display_name": "Python 3",
   "language": "python",
   "name": "python3"
  },
  "language_info": {
   "codemirror_mode": {
    "name": "ipython",
    "version": 3
   },
   "file_extension": ".py",
   "mimetype": "text/x-python",
   "name": "python",
   "nbconvert_exporter": "python",
   "pygments_lexer": "ipython3",
   "version": "3.11.4"
  }
 },
 "nbformat": 4,
 "nbformat_minor": 5
}
